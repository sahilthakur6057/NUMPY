{
 "cells": [
  {
   "cell_type": "code",
   "execution_count": 36,
   "id": "5ed52cdc-e379-40d3-8458-eb3dadab9ed5",
   "metadata": {},
   "outputs": [],
   "source": [
    "import numpy as np"
   ]
  },
  {
   "cell_type": "markdown",
   "id": "612aaf71-96f8-4c51-ad33-cbc9ec62e1bd",
   "metadata": {},
   "source": [
    "### BroadCasting"
   ]
  },
  {
   "cell_type": "code",
   "execution_count": 2,
   "id": "87adf1cf-9a52-4a34-9419-0b364037eabb",
   "metadata": {},
   "outputs": [],
   "source": [
    "arr = np.arange(0,9)\n",
    "arr = arr.reshape(3,3)"
   ]
  },
  {
   "cell_type": "code",
   "execution_count": 3,
   "id": "c1bf03f6-0bbc-42df-8835-9585041e977b",
   "metadata": {},
   "outputs": [
    {
     "data": {
      "text/plain": [
       "array([[0, 1, 2],\n",
       "       [3, 4, 5],\n",
       "       [6, 7, 8]])"
      ]
     },
     "execution_count": 3,
     "metadata": {},
     "output_type": "execute_result"
    }
   ],
   "source": [
    "arr"
   ]
  },
  {
   "cell_type": "code",
   "execution_count": 4,
   "id": "0041d116-8427-4451-bdc6-9a40b1868b8e",
   "metadata": {},
   "outputs": [
    {
     "data": {
      "text/plain": [
       "array([[ 0,  3,  6],\n",
       "       [ 9, 12, 15],\n",
       "       [18, 21, 24]])"
      ]
     },
     "execution_count": 4,
     "metadata": {},
     "output_type": "execute_result"
    }
   ],
   "source": [
    "arr*3"
   ]
  },
  {
   "cell_type": "code",
   "execution_count": 5,
   "id": "47229499-0313-40cd-a76c-ef73a5c30e02",
   "metadata": {},
   "outputs": [
    {
     "data": {
      "text/plain": [
       "array([[-1,  0,  1],\n",
       "       [ 2,  3,  4],\n",
       "       [ 5,  6,  7]])"
      ]
     },
     "execution_count": 5,
     "metadata": {},
     "output_type": "execute_result"
    }
   ],
   "source": [
    "arr-1"
   ]
  },
  {
   "cell_type": "code",
   "execution_count": 6,
   "id": "aa72597f-354b-41f2-a8bf-291f8f8100f2",
   "metadata": {},
   "outputs": [
    {
     "data": {
      "text/plain": [
       "array([[ 0,  2,  4],\n",
       "       [ 6,  8, 10],\n",
       "       [12, 14, 16]])"
      ]
     },
     "execution_count": 6,
     "metadata": {},
     "output_type": "execute_result"
    }
   ],
   "source": [
    "arr*2"
   ]
  },
  {
   "cell_type": "code",
   "execution_count": 7,
   "id": "077e6732-3b96-4237-bb4f-ca6cdd5aaedf",
   "metadata": {},
   "outputs": [
    {
     "data": {
      "text/plain": [
       "array([[10, 11, 12],\n",
       "       [13, 14, 15],\n",
       "       [16, 17, 18]])"
      ]
     },
     "execution_count": 7,
     "metadata": {},
     "output_type": "execute_result"
    }
   ],
   "source": [
    "arr+10"
   ]
  },
  {
   "cell_type": "code",
   "execution_count": 8,
   "id": "8a4d31e2-af27-4882-8f6e-170c0d5e14c7",
   "metadata": {},
   "outputs": [
    {
     "data": {
      "text/plain": [
       "array([[0. , 0.5, 1. ],\n",
       "       [1.5, 2. , 2.5],\n",
       "       [3. , 3.5, 4. ]])"
      ]
     },
     "execution_count": 8,
     "metadata": {},
     "output_type": "execute_result"
    }
   ],
   "source": [
    "arr/2"
   ]
  },
  {
   "cell_type": "code",
   "execution_count": 9,
   "id": "f2fead29-bf33-4bc9-a96d-cb30d56e7cd6",
   "metadata": {},
   "outputs": [],
   "source": [
    "a = np.array([1,2])\n",
    "b = np.array([2,3])"
   ]
  },
  {
   "cell_type": "code",
   "execution_count": 10,
   "id": "d769c84c-ef14-4a29-a1d0-581a4c4b5e19",
   "metadata": {},
   "outputs": [
    {
     "data": {
      "text/plain": [
       "array([1, 2])"
      ]
     },
     "execution_count": 10,
     "metadata": {},
     "output_type": "execute_result"
    }
   ],
   "source": [
    "a"
   ]
  },
  {
   "cell_type": "code",
   "execution_count": 11,
   "id": "9eee3764-d26f-4863-929b-c107191e42a0",
   "metadata": {},
   "outputs": [
    {
     "data": {
      "text/plain": [
       "array([2, 3])"
      ]
     },
     "execution_count": 11,
     "metadata": {},
     "output_type": "execute_result"
    }
   ],
   "source": [
    "b"
   ]
  },
  {
   "cell_type": "code",
   "execution_count": 12,
   "id": "a0e24f29-6e9a-4cd0-8933-b384160b03fd",
   "metadata": {},
   "outputs": [
    {
     "data": {
      "text/plain": [
       "array([3, 5])"
      ]
     },
     "execution_count": 12,
     "metadata": {},
     "output_type": "execute_result"
    }
   ],
   "source": [
    "a+b"
   ]
  },
  {
   "cell_type": "code",
   "execution_count": 13,
   "id": "013a62c9-a020-4fc8-87cb-70f577aa833b",
   "metadata": {},
   "outputs": [
    {
     "data": {
      "text/plain": [
       "array([-1, -1])"
      ]
     },
     "execution_count": 13,
     "metadata": {},
     "output_type": "execute_result"
    }
   ],
   "source": [
    "a-b"
   ]
  },
  {
   "cell_type": "code",
   "execution_count": 14,
   "id": "b47c26c2-ba47-41ea-a48a-6f3a0f3be191",
   "metadata": {},
   "outputs": [
    {
     "data": {
      "text/plain": [
       "array([1, 1])"
      ]
     },
     "execution_count": 14,
     "metadata": {},
     "output_type": "execute_result"
    }
   ],
   "source": [
    "b-a"
   ]
  },
  {
   "cell_type": "markdown",
   "id": "f6fd56cd-29ac-4e80-b63d-076a7c321e3c",
   "metadata": {},
   "source": [
    "#### DOT product on 2 vector \n"
   ]
  },
  {
   "cell_type": "code",
   "execution_count": 15,
   "id": "45e1c1e2-489b-438a-9d7e-075cd48bfd4c",
   "metadata": {},
   "outputs": [],
   "source": [
    "a = np.array([5, -3, 2])\n",
    "b = np.array([4, 5, 3])"
   ]
  },
  {
   "cell_type": "code",
   "execution_count": 16,
   "id": "fc5fc689-f391-4cb5-b77f-74a2fc939325",
   "metadata": {},
   "outputs": [
    {
     "data": {
      "text/plain": [
       "array([ 5, -3,  2])"
      ]
     },
     "execution_count": 16,
     "metadata": {},
     "output_type": "execute_result"
    }
   ],
   "source": [
    "a"
   ]
  },
  {
   "cell_type": "code",
   "execution_count": 17,
   "id": "3ea97409-5b88-4142-b540-e4845d7d295e",
   "metadata": {},
   "outputs": [
    {
     "data": {
      "text/plain": [
       "array([4, 5, 3])"
      ]
     },
     "execution_count": 17,
     "metadata": {},
     "output_type": "execute_result"
    }
   ],
   "source": [
    "b"
   ]
  },
  {
   "cell_type": "markdown",
   "id": "c062d7a1-438a-4144-9054-3fe8e3d050d1",
   "metadata": {},
   "source": [
    "##### Isme dot se dono array ke numbers apse multiply and + ho jate h 5x4 + -3x5 + 2x3"
   ]
  },
  {
   "cell_type": "code",
   "execution_count": 18,
   "id": "c67b009a-58c2-4498-aa52-23ec6c53e491",
   "metadata": {},
   "outputs": [
    {
     "data": {
      "text/plain": [
       "np.int64(11)"
      ]
     },
     "execution_count": 18,
     "metadata": {},
     "output_type": "execute_result"
    }
   ],
   "source": [
    "a.dot(b) "
   ]
  },
  {
   "cell_type": "code",
   "execution_count": null,
   "id": "31e4d5a1-ecfd-4607-9cd6-b291b2fa2b5c",
   "metadata": {},
   "outputs": [],
   "source": []
  },
  {
   "cell_type": "markdown",
   "id": "653deb82-3388-4b16-b96a-2d5dfc7d057b",
   "metadata": {},
   "source": [
    "#### CROS prodcut 2 vectore"
   ]
  },
  {
   "cell_type": "code",
   "execution_count": 19,
   "id": "a844d593-ad92-4e1a-a8f6-f89cf491c5c0",
   "metadata": {},
   "outputs": [],
   "source": [
    "a = np.array([3,4,5])\n",
    "b = np.array([7,8,9])"
   ]
  },
  {
   "cell_type": "code",
   "execution_count": 20,
   "id": "8042202c-9cf6-4351-93b0-cb08b377fa1c",
   "metadata": {},
   "outputs": [
    {
     "data": {
      "text/plain": [
       "array([3, 4, 5])"
      ]
     },
     "execution_count": 20,
     "metadata": {},
     "output_type": "execute_result"
    }
   ],
   "source": [
    "a"
   ]
  },
  {
   "cell_type": "code",
   "execution_count": 21,
   "id": "7a27dd75-6c74-40bd-9d3e-620f684609b2",
   "metadata": {},
   "outputs": [
    {
     "data": {
      "text/plain": [
       "array([7, 8, 9])"
      ]
     },
     "execution_count": 21,
     "metadata": {},
     "output_type": "execute_result"
    }
   ],
   "source": [
    "b"
   ]
  },
  {
   "cell_type": "code",
   "execution_count": 22,
   "id": "42a7d534-5cc9-410c-9dd2-4d18a20d8e44",
   "metadata": {},
   "outputs": [],
   "source": [
    "c = np.cross(a,b)"
   ]
  },
  {
   "cell_type": "code",
   "execution_count": 23,
   "id": "9e8b7c9b-b117-48b1-b218-50307d1e6a22",
   "metadata": {},
   "outputs": [
    {
     "data": {
      "text/plain": [
       "array([-4,  8, -4])"
      ]
     },
     "execution_count": 23,
     "metadata": {},
     "output_type": "execute_result"
    }
   ],
   "source": [
    "c"
   ]
  },
  {
   "cell_type": "code",
   "execution_count": 24,
   "id": "5a3fcd68-7bdd-4da3-a607-4a3be80474fb",
   "metadata": {},
   "outputs": [
    {
     "data": {
      "text/plain": [
       "np.int64(0)"
      ]
     },
     "execution_count": 24,
     "metadata": {},
     "output_type": "execute_result"
    }
   ],
   "source": [
    "c.dot(a)"
   ]
  },
  {
   "cell_type": "code",
   "execution_count": 25,
   "id": "1953e37f-0166-47ab-b066-8eeab2996a0b",
   "metadata": {},
   "outputs": [
    {
     "data": {
      "text/plain": [
       "np.int64(0)"
      ]
     },
     "execution_count": 25,
     "metadata": {},
     "output_type": "execute_result"
    }
   ],
   "source": [
    "c.dot(a)"
   ]
  },
  {
   "cell_type": "markdown",
   "id": "2c616e18-52fb-43be-9c49-09c511377071",
   "metadata": {},
   "source": [
    "#### Determinant"
   ]
  },
  {
   "cell_type": "code",
   "execution_count": 26,
   "id": "9f1cbd97-ca19-4e07-b26d-d98744ddf446",
   "metadata": {},
   "outputs": [],
   "source": [
    "arr = np.array([\n",
    "    [3,5,2],\n",
    "    [1,4,7],\n",
    "    [6,8,9]\n",
    "])"
   ]
  },
  {
   "cell_type": "code",
   "execution_count": 27,
   "id": "938637e8-9a8e-4bec-bd40-c1d309203254",
   "metadata": {},
   "outputs": [
    {
     "data": {
      "text/plain": [
       "array([[3, 5, 2],\n",
       "       [1, 4, 7],\n",
       "       [6, 8, 9]])"
      ]
     },
     "execution_count": 27,
     "metadata": {},
     "output_type": "execute_result"
    }
   ],
   "source": [
    "arr"
   ]
  },
  {
   "cell_type": "code",
   "execution_count": 28,
   "id": "4e525123-2fe5-4e65-a104-edff9010b091",
   "metadata": {},
   "outputs": [
    {
     "data": {
      "text/plain": [
       "np.float64(72.99999999999999)"
      ]
     },
     "execution_count": 28,
     "metadata": {},
     "output_type": "execute_result"
    }
   ],
   "source": [
    "np.linalg.det(arr)"
   ]
  },
  {
   "cell_type": "code",
   "execution_count": 31,
   "id": "721a58e4-0131-4ce1-ad5a-59600190e326",
   "metadata": {},
   "outputs": [],
   "source": [
    "arr = np.array([\n",
    "    [3,5,2],\n",
    "    [6,10,4],\n",
    "    [6,8,9]\n",
    "])"
   ]
  },
  {
   "cell_type": "code",
   "execution_count": 32,
   "id": "3f24fcc2-399b-4b2d-b488-ef313d035490",
   "metadata": {},
   "outputs": [
    {
     "data": {
      "text/plain": [
       "array([[ 3,  5,  2],\n",
       "       [ 6, 10,  4],\n",
       "       [ 6,  8,  9]])"
      ]
     },
     "execution_count": 32,
     "metadata": {},
     "output_type": "execute_result"
    }
   ],
   "source": [
    "arr"
   ]
  },
  {
   "cell_type": "code",
   "execution_count": 33,
   "id": "074a22df-fdeb-4673-9ec4-34db59483264",
   "metadata": {},
   "outputs": [
    {
     "data": {
      "text/plain": [
       "np.float64(0.0)"
      ]
     },
     "execution_count": 33,
     "metadata": {},
     "output_type": "execute_result"
    }
   ],
   "source": [
    "np.linalg.det(arr)"
   ]
  },
  {
   "cell_type": "code",
   "execution_count": null,
   "id": "495faf79-b848-4762-9273-293137497a56",
   "metadata": {},
   "outputs": [],
   "source": [
    " "
   ]
  },
  {
   "cell_type": "markdown",
   "id": "00156b72-d8f7-4d7e-afa3-b8cd227a0a50",
   "metadata": {},
   "source": [
    "#### Inverse matrix\n",
    "##### An inverse matrix is a matrix that, when multiplied with the original matrix, yields the identity matrix. This concept only applies to square matrices (i.e., matrices with the same number of rows and columns) that are invertible (i.e., have a non-zero determinant)."
   ]
  },
  {
   "cell_type": "code",
   "execution_count": 8,
   "id": "ddd26da8-6a55-4e8a-bf61-2096637c9dc7",
   "metadata": {},
   "outputs": [],
   "source": [
    "arr = np.array([\n",
    "    [1,2,3],\n",
    "    [3,-2,1],\n",
    "    [4,1,1]\n",
    "    \n",
    "])"
   ]
  },
  {
   "cell_type": "code",
   "execution_count": 9,
   "id": "1f331096-4735-476f-90b6-42b7d2c3d8b3",
   "metadata": {},
   "outputs": [],
   "source": [
    "inv = np.linalg.inv(arr)"
   ]
  },
  {
   "cell_type": "code",
   "execution_count": 10,
   "id": "d7f4d836-3494-465e-9ef8-2f223a070d69",
   "metadata": {},
   "outputs": [
    {
     "data": {
      "text/plain": [
       "array([[-0.09375,  0.03125,  0.25   ],\n",
       "       [ 0.03125, -0.34375,  0.25   ],\n",
       "       [ 0.34375,  0.21875, -0.25   ]])"
      ]
     },
     "execution_count": 10,
     "metadata": {},
     "output_type": "execute_result"
    }
   ],
   "source": [
    "inv"
   ]
  },
  {
   "cell_type": "code",
   "execution_count": 11,
   "id": "bbd4bb98-ae6e-465c-9b60-062dcfeae222",
   "metadata": {},
   "outputs": [
    {
     "data": {
      "text/plain": [
       "array([[1., 0., 0.],\n",
       "       [0., 1., 0.],\n",
       "       [0., 0., 1.]])"
      ]
     },
     "execution_count": 11,
     "metadata": {},
     "output_type": "execute_result"
    }
   ],
   "source": [
    "arr.dot(inv)"
   ]
  },
  {
   "cell_type": "markdown",
   "id": "65a53e28-a7ab-4e71-b2e6-e1430fcb6720",
   "metadata": {},
   "source": [
    "###### identiy matrix ka determiner nikala\n",
    "###### i use for making identity matrix "
   ]
  },
  {
   "cell_type": "code",
   "execution_count": 16,
   "id": "2866f4fe-e09e-4aea-b0e6-2263de88cfd4",
   "metadata": {},
   "outputs": [],
   "source": [
    "i = np.eye(3) "
   ]
  },
  {
   "cell_type": "code",
   "execution_count": 14,
   "id": "e1481673-9194-4b93-bbbe-c71992295dea",
   "metadata": {},
   "outputs": [
    {
     "data": {
      "text/plain": [
       "np.float64(1.0)"
      ]
     },
     "execution_count": 14,
     "metadata": {},
     "output_type": "execute_result"
    }
   ],
   "source": [
    "np.linalg.det(i)"
   ]
  },
  {
   "cell_type": "code",
   "execution_count": null,
   "id": "95ab1dde-55e9-48b4-b440-4105cf30333f",
   "metadata": {},
   "outputs": [],
   "source": [
    " "
   ]
  },
  {
   "cell_type": "markdown",
   "id": "c9c8db72-b596-41b2-83cb-226c5fe5fc1f",
   "metadata": {},
   "source": [
    "#### multiplication of 2 matrix"
   ]
  },
  {
   "cell_type": "code",
   "execution_count": 17,
   "id": "2c04e806-3dc3-42eb-a2d0-7975d3c5301f",
   "metadata": {},
   "outputs": [],
   "source": [
    "x  = np.random.randint(1,10,(3,3))"
   ]
  },
  {
   "cell_type": "code",
   "execution_count": 18,
   "id": "751fffde-4810-4c19-800c-550ad9e09f94",
   "metadata": {},
   "outputs": [
    {
     "data": {
      "text/plain": [
       "array([[6, 1, 2],\n",
       "       [2, 1, 2],\n",
       "       [3, 4, 2]], dtype=int32)"
      ]
     },
     "execution_count": 18,
     "metadata": {},
     "output_type": "execute_result"
    }
   ],
   "source": [
    "x"
   ]
  },
  {
   "cell_type": "code",
   "execution_count": 19,
   "id": "1bb284d6-84f3-4503-9d84-17fedc741516",
   "metadata": {},
   "outputs": [],
   "source": [
    "y = np.random.randint(1,10,(3,3))"
   ]
  },
  {
   "cell_type": "code",
   "execution_count": 20,
   "id": "ae257628-099a-45ab-b85c-582bbbd19ecb",
   "metadata": {},
   "outputs": [
    {
     "data": {
      "text/plain": [
       "array([[7, 7, 9],\n",
       "       [8, 2, 1],\n",
       "       [9, 5, 7]], dtype=int32)"
      ]
     },
     "execution_count": 20,
     "metadata": {},
     "output_type": "execute_result"
    }
   ],
   "source": [
    "y"
   ]
  },
  {
   "cell_type": "markdown",
   "id": "01eaa4aa-a83d-4b68-9f3b-9255ccedc8e0",
   "metadata": {},
   "source": [
    "###### this helps to multiply 2 matrix"
   ]
  },
  {
   "cell_type": "code",
   "execution_count": 21,
   "id": "830bb941-c87a-4479-aa2b-eaf7f6391617",
   "metadata": {},
   "outputs": [
    {
     "data": {
      "text/plain": [
       "array([[68, 54, 69],\n",
       "       [40, 26, 33],\n",
       "       [71, 39, 45]], dtype=int32)"
      ]
     },
     "execution_count": 21,
     "metadata": {},
     "output_type": "execute_result"
    }
   ],
   "source": [
    "x.dot(y)"
   ]
  },
  {
   "cell_type": "code",
   "execution_count": null,
   "id": "5440988b-d7df-45b1-a205-765ee27b71c4",
   "metadata": {},
   "outputs": [],
   "source": []
  },
  {
   "cell_type": "markdown",
   "id": "1f90fab4-bb8b-4eeb-9a23-379854291ab4",
   "metadata": {},
   "source": [
    "#### Solving Linear Algebra"
   ]
  },
  {
   "cell_type": "code",
   "execution_count": 37,
   "id": "13af6dfe-9462-465a-8f3f-08d86327f57e",
   "metadata": {},
   "outputs": [],
   "source": [
    "arr = np.array([\n",
    "    [1,3,-2],\n",
    "    [2,-1,6],\n",
    "    [1,1,-2]\n",
    "])"
   ]
  },
  {
   "cell_type": "code",
   "execution_count": 24,
   "id": "5add31ff-03ee-42bb-a026-5edabe6d8d12",
   "metadata": {},
   "outputs": [],
   "source": [
    "c = np.array([10,3,5])"
   ]
  },
  {
   "cell_type": "code",
   "execution_count": 25,
   "id": "c2dc2089-6900-4d55-a196-571ccc1715f9",
   "metadata": {},
   "outputs": [],
   "source": [
    "inv = np.linalg.inv(arr)"
   ]
  },
  {
   "cell_type": "code",
   "execution_count": 26,
   "id": "e1992af3-8f57-4ba7-8b0d-190b876a256e",
   "metadata": {},
   "outputs": [
    {
     "data": {
      "text/plain": [
       "array([[-2.00000000e-01,  2.00000000e-01,  8.00000000e-01],\n",
       "       [ 5.00000000e-01, -1.18952467e-17, -5.00000000e-01],\n",
       "       [ 1.50000000e-01,  1.00000000e-01, -3.50000000e-01]])"
      ]
     },
     "execution_count": 26,
     "metadata": {},
     "output_type": "execute_result"
    }
   ],
   "source": [
    "inv"
   ]
  },
  {
   "cell_type": "code",
   "execution_count": 31,
   "id": "00bebbe8-b169-4546-86bd-8b2e8828c765",
   "metadata": {},
   "outputs": [
    {
     "data": {
      "text/plain": [
       "array([2.6 , 2.5 , 0.05])"
      ]
     },
     "execution_count": 31,
     "metadata": {},
     "output_type": "execute_result"
    }
   ],
   "source": [
    "inv.dot(c)"
   ]
  },
  {
   "cell_type": "code",
   "execution_count": null,
   "id": "cfdb7708-d56c-4865-b43e-9bc09e6d5e25",
   "metadata": {},
   "outputs": [],
   "source": []
  },
  {
   "cell_type": "markdown",
   "id": "ce272370-c4b4-4b90-ae73-118bea7e3fa5",
   "metadata": {},
   "source": [
    "#### Eigen Values Eigen Vectors"
   ]
  },
  {
   "cell_type": "code",
   "execution_count": 38,
   "id": "dc738fa2-2c86-438c-9fb5-05ff1736685b",
   "metadata": {},
   "outputs": [
    {
     "data": {
      "text/plain": [
       "array([[ 1,  3, -2],\n",
       "       [ 2, -1,  6],\n",
       "       [ 1,  1, -2]])"
      ]
     },
     "execution_count": 38,
     "metadata": {},
     "output_type": "execute_result"
    }
   ],
   "source": [
    "arr"
   ]
  },
  {
   "cell_type": "code",
   "execution_count": 40,
   "id": "5dde0e62-72fd-4a18-8937-df4e8796a439",
   "metadata": {},
   "outputs": [],
   "source": [
    "a,b = np.linalg.eig(arr)"
   ]
  },
  {
   "cell_type": "code",
   "execution_count": 41,
   "id": "e45ca608-36e8-40ef-a35b-a4d6afbdf179",
   "metadata": {},
   "outputs": [
    {
     "data": {
      "text/plain": [
       "EigResult(eigenvalues=array([ 3.25878567, -1.74822811, -3.51055757]), eigenvectors=array([[-0.68032035, -0.68273056,  0.58984922],\n",
       "       [-0.685363  ,  0.71750056, -0.79590801],\n",
       "       [-0.25969557,  0.13810117,  0.13641241]]))"
      ]
     },
     "execution_count": 41,
     "metadata": {},
     "output_type": "execute_result"
    }
   ],
   "source": [
    "np.linalg.eig(arr)"
   ]
  },
  {
   "cell_type": "code",
   "execution_count": 42,
   "id": "3316fa37-cf9c-4e01-8fd0-e775f3ed9bdc",
   "metadata": {},
   "outputs": [
    {
     "data": {
      "text/plain": [
       "array([ 3.25878567, -1.74822811, -3.51055757])"
      ]
     },
     "execution_count": 42,
     "metadata": {},
     "output_type": "execute_result"
    }
   ],
   "source": [
    "a"
   ]
  },
  {
   "cell_type": "code",
   "execution_count": 43,
   "id": "6e84e77e-0c37-43d2-b838-d218dbac738f",
   "metadata": {},
   "outputs": [
    {
     "data": {
      "text/plain": [
       "array([[-0.68032035, -0.68273056,  0.58984922],\n",
       "       [-0.685363  ,  0.71750056, -0.79590801],\n",
       "       [-0.25969557,  0.13810117,  0.13641241]])"
      ]
     },
     "execution_count": 43,
     "metadata": {},
     "output_type": "execute_result"
    }
   ],
   "source": [
    "b"
   ]
  },
  {
   "cell_type": "code",
   "execution_count": null,
   "id": "b347a1bf-7602-48c3-af98-cabfda35e05a",
   "metadata": {},
   "outputs": [],
   "source": []
  },
  {
   "cell_type": "markdown",
   "id": "559eb3f2-ab58-453a-99f4-638d1918367b",
   "metadata": {},
   "source": [
    "#### Basic functions"
   ]
  },
  {
   "cell_type": "code",
   "execution_count": 44,
   "id": "9412012c-f715-4817-bb01-836ddc248355",
   "metadata": {},
   "outputs": [
    {
     "data": {
      "text/plain": [
       "array([[ 1,  3, -2],\n",
       "       [ 2, -1,  6],\n",
       "       [ 1,  1, -2]])"
      ]
     },
     "execution_count": 44,
     "metadata": {},
     "output_type": "execute_result"
    }
   ],
   "source": [
    "arr"
   ]
  },
  {
   "cell_type": "code",
   "execution_count": 45,
   "id": "979b6cc0-3b1c-4c2e-a1ca-1e814331d906",
   "metadata": {},
   "outputs": [
    {
     "data": {
      "text/plain": [
       "np.int64(9)"
      ]
     },
     "execution_count": 45,
     "metadata": {},
     "output_type": "execute_result"
    }
   ],
   "source": [
    "np.sum(arr)"
   ]
  },
  {
   "cell_type": "code",
   "execution_count": 46,
   "id": "2d48689c-e4fe-441e-94e8-8c97149a6ccf",
   "metadata": {},
   "outputs": [
    {
     "data": {
      "text/plain": [
       "np.float64(1.0)"
      ]
     },
     "execution_count": 46,
     "metadata": {},
     "output_type": "execute_result"
    }
   ],
   "source": [
    "np.mean(arr)"
   ]
  },
  {
   "cell_type": "code",
   "execution_count": 47,
   "id": "dfd6824d-a09e-4932-be3d-5808295843a8",
   "metadata": {},
   "outputs": [
    {
     "data": {
      "text/plain": [
       "np.float64(1.0)"
      ]
     },
     "execution_count": 47,
     "metadata": {},
     "output_type": "execute_result"
    }
   ],
   "source": [
    "np.median(arr)"
   ]
  },
  {
   "cell_type": "code",
   "execution_count": 49,
   "id": "26fbd5c0-acde-473e-bc5a-dbc2b25b4610",
   "metadata": {},
   "outputs": [
    {
     "data": {
      "text/plain": [
       "array([[ 1,  3, -2],\n",
       "       [ 2, -1,  6],\n",
       "       [ 1,  1, -2]])"
      ]
     },
     "execution_count": 49,
     "metadata": {},
     "output_type": "execute_result"
    }
   ],
   "source": [
    "arr"
   ]
  },
  {
   "cell_type": "code",
   "execution_count": 52,
   "id": "e35090f4-50e2-4b94-917c-a5023e7ab5fa",
   "metadata": {},
   "outputs": [
    {
     "data": {
      "text/plain": [
       "np.int64(2)"
      ]
     },
     "execution_count": 52,
     "metadata": {},
     "output_type": "execute_result"
    }
   ],
   "source": [
    "np.argmin(arr) ## yeh bta raha h konse no. me min no. hai"
   ]
  },
  {
   "cell_type": "code",
   "execution_count": 53,
   "id": "696b562f-64a8-4df0-ad20-37705c5aae09",
   "metadata": {},
   "outputs": [
    {
     "data": {
      "text/plain": [
       "np.int64(-2)"
      ]
     },
     "execution_count": 53,
     "metadata": {},
     "output_type": "execute_result"
    }
   ],
   "source": [
    "np.min(arr)"
   ]
  },
  {
   "cell_type": "code",
   "execution_count": 54,
   "id": "5e8a2f5d-e95a-41ca-9f4e-093059829e23",
   "metadata": {},
   "outputs": [
    {
     "data": {
      "text/plain": [
       "array([[ 1,  3, -2],\n",
       "       [ 2, -1,  6],\n",
       "       [ 1,  1, -2]])"
      ]
     },
     "execution_count": 54,
     "metadata": {},
     "output_type": "execute_result"
    }
   ],
   "source": [
    "arr"
   ]
  },
  {
   "cell_type": "code",
   "execution_count": 55,
   "id": "42af5309-8494-43db-8f2a-bdfc845ffe35",
   "metadata": {},
   "outputs": [
    {
     "data": {
      "text/plain": [
       "np.int64(5)"
      ]
     },
     "execution_count": 55,
     "metadata": {},
     "output_type": "execute_result"
    }
   ],
   "source": [
    "np.argmax(arr)"
   ]
  },
  {
   "cell_type": "code",
   "execution_count": 56,
   "id": "82ad2681-55af-4339-95e9-d2b4d1dd1ca7",
   "metadata": {},
   "outputs": [
    {
     "data": {
      "text/plain": [
       "np.int64(6)"
      ]
     },
     "execution_count": 56,
     "metadata": {},
     "output_type": "execute_result"
    }
   ],
   "source": [
    "np.max(arr)"
   ]
  },
  {
   "cell_type": "code",
   "execution_count": null,
   "id": "5e9598cd-8c9b-4a70-ad49-ab826cfd39de",
   "metadata": {},
   "outputs": [],
   "source": []
  }
 ],
 "metadata": {
  "kernelspec": {
   "display_name": "Python [conda env:base] *",
   "language": "python",
   "name": "conda-base-py"
  },
  "language_info": {
   "codemirror_mode": {
    "name": "ipython",
    "version": 3
   },
   "file_extension": ".py",
   "mimetype": "text/x-python",
   "name": "python",
   "nbconvert_exporter": "python",
   "pygments_lexer": "ipython3",
   "version": "3.13.5"
  }
 },
 "nbformat": 4,
 "nbformat_minor": 5
}
