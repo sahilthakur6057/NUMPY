{
 "cells": [
  {
   "cell_type": "code",
   "execution_count": 1,
   "id": "d1ec536b-7db4-41b5-868b-8784de7a5681",
   "metadata": {},
   "outputs": [],
   "source": [
    "import numpy as np"
   ]
  },
  {
   "cell_type": "markdown",
   "id": "33522e5e-7ef7-40f5-b300-c80ed2f0a6ad",
   "metadata": {},
   "source": [
    "##### indexing slicing"
   ]
  },
  {
   "cell_type": "code",
   "execution_count": 23,
   "id": "7f9ff35f-5f58-4e95-81df-0557076217a4",
   "metadata": {},
   "outputs": [],
   "source": [
    "arr = np.random.randint(1,20,(5,3,5))"
   ]
  },
  {
   "cell_type": "code",
   "execution_count": 24,
   "id": "0a36fe8c-1c66-4b31-b5ff-5fc750269dcb",
   "metadata": {},
   "outputs": [
    {
     "data": {
      "text/plain": [
       "array([[[16,  1,  2, 19, 14],\n",
       "        [13, 14,  1, 11,  5],\n",
       "        [11,  3,  5, 18,  6]],\n",
       "\n",
       "       [[13,  2, 15, 18,  3],\n",
       "        [11, 13, 16, 19, 13],\n",
       "        [18, 14, 11,  2, 19]],\n",
       "\n",
       "       [[ 4,  6, 17,  6,  4],\n",
       "        [17,  3,  3,  7,  6],\n",
       "        [13, 17, 10, 19,  2]],\n",
       "\n",
       "       [[13,  1, 11,  1, 18],\n",
       "        [12, 11,  8,  4,  4],\n",
       "        [ 2,  7, 18,  2, 17]],\n",
       "\n",
       "       [[11, 17, 12,  9, 15],\n",
       "        [13, 19,  4, 19,  1],\n",
       "        [19,  3, 10, 15, 11]]], dtype=int32)"
      ]
     },
     "execution_count": 24,
     "metadata": {},
     "output_type": "execute_result"
    }
   ],
   "source": [
    "arr"
   ]
  },
  {
   "cell_type": "code",
   "execution_count": 25,
   "id": "5307b8a4-60be-46e3-8403-cdb5ad922fa6",
   "metadata": {},
   "outputs": [
    {
     "data": {
      "text/plain": [
       "array([[ 4,  6, 17,  6,  4],\n",
       "       [17,  3,  3,  7,  6],\n",
       "       [13, 17, 10, 19,  2]], dtype=int32)"
      ]
     },
     "execution_count": 25,
     "metadata": {},
     "output_type": "execute_result"
    }
   ],
   "source": [
    "arr[2]"
   ]
  },
  {
   "cell_type": "code",
   "execution_count": 26,
   "id": "97880253-f8c3-4193-ad09-84282588be18",
   "metadata": {},
   "outputs": [
    {
     "data": {
      "text/plain": [
       "array([17,  3,  3,  7,  6], dtype=int32)"
      ]
     },
     "execution_count": 26,
     "metadata": {},
     "output_type": "execute_result"
    }
   ],
   "source": [
    "arr[2][1]"
   ]
  },
  {
   "cell_type": "code",
   "execution_count": 27,
   "id": "e247662c-f869-41a5-bb45-e2395050c126",
   "metadata": {},
   "outputs": [
    {
     "data": {
      "text/plain": [
       "np.int32(3)"
      ]
     },
     "execution_count": 27,
     "metadata": {},
     "output_type": "execute_result"
    }
   ],
   "source": [
    "arr[2][1][2]"
   ]
  },
  {
   "cell_type": "code",
   "execution_count": 28,
   "id": "a3c8c260-c136-4cf5-84eb-226adcd735f1",
   "metadata": {},
   "outputs": [
    {
     "data": {
      "text/plain": [
       "array([[[16,  1,  2, 19, 14],\n",
       "        [13, 14,  1, 11,  5],\n",
       "        [11,  3,  5, 18,  6]],\n",
       "\n",
       "       [[13,  2, 15, 18,  3],\n",
       "        [11, 13, 16, 19, 13],\n",
       "        [18, 14, 11,  2, 19]],\n",
       "\n",
       "       [[ 4,  6, 17,  6,  4],\n",
       "        [17,  3,  3,  7,  6],\n",
       "        [13, 17, 10, 19,  2]],\n",
       "\n",
       "       [[13,  1, 11,  1, 18],\n",
       "        [12, 11,  8,  4,  4],\n",
       "        [ 2,  7, 18,  2, 17]],\n",
       "\n",
       "       [[11, 17, 12,  9, 15],\n",
       "        [13, 19,  4, 19,  1],\n",
       "        [19,  3, 10, 15, 11]]], dtype=int32)"
      ]
     },
     "execution_count": 28,
     "metadata": {},
     "output_type": "execute_result"
    }
   ],
   "source": [
    "arr"
   ]
  },
  {
   "cell_type": "code",
   "execution_count": 29,
   "id": "3fecd47c-fd88-4a6c-821c-3a9de192e965",
   "metadata": {},
   "outputs": [
    {
     "data": {
      "text/plain": [
       "np.int32(4)"
      ]
     },
     "execution_count": 29,
     "metadata": {},
     "output_type": "execute_result"
    }
   ],
   "source": [
    "arr [3][1][-2]"
   ]
  },
  {
   "cell_type": "code",
   "execution_count": 30,
   "id": "79c3e221-b85e-46f7-9ad5-e048fe3e3056",
   "metadata": {},
   "outputs": [
    {
     "data": {
      "text/plain": [
       "array([[11, 17, 12,  9, 15],\n",
       "       [13, 19,  4, 19,  1],\n",
       "       [19,  3, 10, 15, 11]], dtype=int32)"
      ]
     },
     "execution_count": 30,
     "metadata": {},
     "output_type": "execute_result"
    }
   ],
   "source": [
    "arr[4]"
   ]
  },
  {
   "cell_type": "code",
   "execution_count": 31,
   "id": "f381da4b-cb3b-4c4a-829e-14e0e770a8dc",
   "metadata": {},
   "outputs": [
    {
     "data": {
      "text/plain": [
       "np.int32(11)"
      ]
     },
     "execution_count": 31,
     "metadata": {},
     "output_type": "execute_result"
    }
   ],
   "source": [
    "arr[4][2][-1]"
   ]
  },
  {
   "cell_type": "code",
   "execution_count": 2,
   "id": "25be8d62-00a8-47ae-adde-2f17986079c0",
   "metadata": {},
   "outputs": [],
   "source": [
    "arr = np.random.randint(1,20,(5,3,5))"
   ]
  },
  {
   "cell_type": "code",
   "execution_count": 3,
   "id": "f8752ac4-fac1-4b31-bde7-640e60e330bf",
   "metadata": {},
   "outputs": [
    {
     "data": {
      "text/plain": [
       "array([[[ 4, 16, 16,  5,  5],\n",
       "        [ 5,  8, 12,  2,  5],\n",
       "        [ 2, 11,  4,  6, 13]],\n",
       "\n",
       "       [[12,  3, 12,  5,  1],\n",
       "        [ 4, 15,  1, 15,  3],\n",
       "        [11,  2,  3, 15, 13]],\n",
       "\n",
       "       [[10, 19, 16, 13, 14],\n",
       "        [16,  2,  2, 15, 10],\n",
       "        [19,  2, 17, 13,  2]],\n",
       "\n",
       "       [[18,  6, 16, 15, 18],\n",
       "        [14,  5,  1,  6,  9],\n",
       "        [14, 13,  4, 13,  4]],\n",
       "\n",
       "       [[19,  3,  2, 10,  1],\n",
       "        [ 4, 13, 16,  2, 10],\n",
       "        [12,  6,  7,  6,  6]]], dtype=int32)"
      ]
     },
     "execution_count": 3,
     "metadata": {},
     "output_type": "execute_result"
    }
   ],
   "source": [
    "arr"
   ]
  },
  {
   "cell_type": "code",
   "execution_count": 4,
   "id": "a60bd7b7-396d-411b-965f-fd393dc2d89a",
   "metadata": {},
   "outputs": [
    {
     "data": {
      "text/plain": [
       "np.int32(2)"
      ]
     },
     "execution_count": 4,
     "metadata": {},
     "output_type": "execute_result"
    }
   ],
   "source": [
    "arr[2][1][2]"
   ]
  },
  {
   "cell_type": "code",
   "execution_count": 5,
   "id": "af4cd46d-6421-42ed-8229-314d238b5978",
   "metadata": {},
   "outputs": [
    {
     "data": {
      "text/plain": [
       "array([[10, 19, 16, 13, 14],\n",
       "       [16,  2,  2, 15, 10],\n",
       "       [19,  2, 17, 13,  2]], dtype=int32)"
      ]
     },
     "execution_count": 5,
     "metadata": {},
     "output_type": "execute_result"
    }
   ],
   "source": [
    "arr[2]"
   ]
  },
  {
   "cell_type": "code",
   "execution_count": 7,
   "id": "6d6b967b-d916-4e33-972c-49ac2fdd66d3",
   "metadata": {},
   "outputs": [
    {
     "data": {
      "text/plain": [
       "array([[16,  2,  2, 15, 10],\n",
       "       [19,  2, 17, 13,  2]], dtype=int32)"
      ]
     },
     "execution_count": 7,
     "metadata": {},
     "output_type": "execute_result"
    }
   ],
   "source": [
    "arr[2][1:]"
   ]
  },
  {
   "cell_type": "code",
   "execution_count": 12,
   "id": "1b7448de-dcba-4755-971b-ffafc3bab090",
   "metadata": {},
   "outputs": [
    {
     "data": {
      "text/plain": [
       "array([[10, 19, 16, 13, 14],\n",
       "       [16,  2,  2, 15, 10],\n",
       "       [19,  2, 17, 13,  2]], dtype=int32)"
      ]
     },
     "execution_count": 12,
     "metadata": {},
     "output_type": "execute_result"
    }
   ],
   "source": [
    "arr[2]"
   ]
  },
  {
   "cell_type": "code",
   "execution_count": 13,
   "id": "63bd473a-be08-43d5-8d34-dbcdead1b239",
   "metadata": {},
   "outputs": [
    {
     "data": {
      "text/plain": [
       "array([[16,  2,  2, 15, 10],\n",
       "       [19,  2, 17, 13,  2]], dtype=int32)"
      ]
     },
     "execution_count": 13,
     "metadata": {},
     "output_type": "execute_result"
    }
   ],
   "source": [
    "arr[2][1:]"
   ]
  },
  {
   "cell_type": "code",
   "execution_count": 18,
   "id": "cc1d54b3-d3b1-4844-9de1-d3b8b01b17e3",
   "metadata": {},
   "outputs": [
    {
     "data": {
      "text/plain": [
       "array([[15, 10],\n",
       "       [13,  2]], dtype=int32)"
      ]
     },
     "execution_count": 18,
     "metadata": {},
     "output_type": "execute_result"
    }
   ],
   "source": [
    "arr[2][1:,3:]"
   ]
  },
  {
   "cell_type": "code",
   "execution_count": 19,
   "id": "93233155-2c74-4368-b3b1-f6e0c49c8596",
   "metadata": {},
   "outputs": [
    {
     "data": {
      "text/plain": [
       "array([[12,  3, 12,  5,  1],\n",
       "       [ 4, 15,  1, 15,  3],\n",
       "       [11,  2,  3, 15, 13]], dtype=int32)"
      ]
     },
     "execution_count": 19,
     "metadata": {},
     "output_type": "execute_result"
    }
   ],
   "source": [
    "arr[1]"
   ]
  },
  {
   "cell_type": "code",
   "execution_count": 20,
   "id": "8980fb74-8c9f-4809-a0f6-9c308937228e",
   "metadata": {},
   "outputs": [
    {
     "data": {
      "text/plain": [
       "array([[ 4, 15,  1, 15,  3],\n",
       "       [11,  2,  3, 15, 13]], dtype=int32)"
      ]
     },
     "execution_count": 20,
     "metadata": {},
     "output_type": "execute_result"
    }
   ],
   "source": [
    "arr[1][1:]"
   ]
  },
  {
   "cell_type": "code",
   "execution_count": 22,
   "id": "09d4fff8-b105-4835-819f-d989b7149564",
   "metadata": {},
   "outputs": [
    {
     "data": {
      "text/plain": [
       "array([[ 1, 15,  3],\n",
       "       [ 3, 15, 13]], dtype=int32)"
      ]
     },
     "execution_count": 22,
     "metadata": {},
     "output_type": "execute_result"
    }
   ],
   "source": [
    "arr[1][1:,2:]"
   ]
  },
  {
   "cell_type": "code",
   "execution_count": null,
   "id": "aa810460-583f-4f7c-9241-6e25e5f53265",
   "metadata": {},
   "outputs": [],
   "source": [
    " "
   ]
  }
 ],
 "metadata": {
  "kernelspec": {
   "display_name": "Python [conda env:base] *",
   "language": "python",
   "name": "conda-base-py"
  },
  "language_info": {
   "codemirror_mode": {
    "name": "ipython",
    "version": 3
   },
   "file_extension": ".py",
   "mimetype": "text/x-python",
   "name": "python",
   "nbconvert_exporter": "python",
   "pygments_lexer": "ipython3",
   "version": "3.13.5"
  }
 },
 "nbformat": 4,
 "nbformat_minor": 5
}
