{
 "cells": [
  {
   "cell_type": "code",
   "execution_count": 1,
   "id": "05b80189-30a3-45fd-b8f6-764dca7d54eb",
   "metadata": {},
   "outputs": [],
   "source": [
    "import numpy as np"
   ]
  },
  {
   "cell_type": "code",
   "execution_count": 3,
   "id": "93f2f332-1cbe-46c8-b911-ae082c1aeb45",
   "metadata": {},
   "outputs": [],
   "source": [
    "arr = np.array(range(25))"
   ]
  },
  {
   "cell_type": "code",
   "execution_count": 4,
   "id": "a46de2a8-aed3-4e5f-a3cd-e93f701b70a2",
   "metadata": {},
   "outputs": [
    {
     "data": {
      "text/plain": [
       "array([ 0,  1,  2,  3,  4,  5,  6,  7,  8,  9, 10, 11, 12, 13, 14, 15, 16,\n",
       "       17, 18, 19, 20, 21, 22, 23, 24])"
      ]
     },
     "execution_count": 4,
     "metadata": {},
     "output_type": "execute_result"
    }
   ],
   "source": [
    "arr"
   ]
  },
  {
   "cell_type": "code",
   "execution_count": 5,
   "id": "6bb4dd3b-2cad-4a43-b0b9-7efdd59dca13",
   "metadata": {},
   "outputs": [
    {
     "data": {
      "text/plain": [
       "(25,)"
      ]
     },
     "execution_count": 5,
     "metadata": {},
     "output_type": "execute_result"
    }
   ],
   "source": [
    "arr.shape"
   ]
  },
  {
   "cell_type": "code",
   "execution_count": 7,
   "id": "0bf880a5-d2da-4407-8147-e084d2384dfe",
   "metadata": {},
   "outputs": [
    {
     "data": {
      "text/plain": [
       "array([[ 0,  1,  2,  3,  4],\n",
       "       [ 5,  6,  7,  8,  9],\n",
       "       [10, 11, 12, 13, 14],\n",
       "       [15, 16, 17, 18, 19],\n",
       "       [20, 21, 22, 23, 24]])"
      ]
     },
     "execution_count": 7,
     "metadata": {},
     "output_type": "execute_result"
    }
   ],
   "source": [
    "arr.reshape(5,5)"
   ]
  },
  {
   "cell_type": "code",
   "execution_count": 8,
   "id": "e934d4ff-744f-4253-80ec-738d5e0052c4",
   "metadata": {},
   "outputs": [
    {
     "data": {
      "text/plain": [
       "1"
      ]
     },
     "execution_count": 8,
     "metadata": {},
     "output_type": "execute_result"
    }
   ],
   "source": [
    "arr.ndim"
   ]
  },
  {
   "cell_type": "code",
   "execution_count": 9,
   "id": "cf435003-8ee8-48c9-b7be-27136bcab970",
   "metadata": {},
   "outputs": [],
   "source": [
    "arr = np.array(range(24))"
   ]
  },
  {
   "cell_type": "code",
   "execution_count": 10,
   "id": "7253f080-66c2-401a-a4b1-671f15d7b074",
   "metadata": {},
   "outputs": [
    {
     "data": {
      "text/plain": [
       "array([ 0,  1,  2,  3,  4,  5,  6,  7,  8,  9, 10, 11, 12, 13, 14, 15, 16,\n",
       "       17, 18, 19, 20, 21, 22, 23])"
      ]
     },
     "execution_count": 10,
     "metadata": {},
     "output_type": "execute_result"
    }
   ],
   "source": [
    "arr"
   ]
  },
  {
   "cell_type": "code",
   "execution_count": 15,
   "id": "c53ac20f-1826-405a-a619-e9977983b0af",
   "metadata": {},
   "outputs": [],
   "source": [
    "Arr = arr.reshape(2,3,4)"
   ]
  },
  {
   "cell_type": "code",
   "execution_count": 57,
   "id": "785ab7c6-76a9-493c-b85a-f308b7ae92c7",
   "metadata": {},
   "outputs": [
    {
     "data": {
      "text/plain": [
       "array([[[ 0,  1,  2,  3],\n",
       "        [ 4,  5,  6,  7],\n",
       "        [ 8,  9, 10, 11]],\n",
       "\n",
       "       [[12, 13, 14, 15],\n",
       "        [16, 17, 18, 19],\n",
       "        [20, 21, 22, 23]]])"
      ]
     },
     "execution_count": 57,
     "metadata": {},
     "output_type": "execute_result"
    }
   ],
   "source": [
    "Arr"
   ]
  },
  {
   "cell_type": "code",
   "execution_count": 17,
   "id": "618c225f-77f0-4449-84f7-a60716deacef",
   "metadata": {},
   "outputs": [
    {
     "data": {
      "text/plain": [
       "3"
      ]
     },
     "execution_count": 17,
     "metadata": {},
     "output_type": "execute_result"
    }
   ],
   "source": [
    "Arr.ndim"
   ]
  },
  {
   "cell_type": "code",
   "execution_count": 18,
   "id": "1f103a14-bbb3-412b-9f5f-42e20b653ff4",
   "metadata": {},
   "outputs": [
    {
     "data": {
      "text/plain": [
       "array([ 0,  1,  2,  3,  4,  5,  6,  7,  8,  9, 10, 11, 12, 13, 14, 15, 16,\n",
       "       17, 18, 19, 20, 21, 22, 23])"
      ]
     },
     "execution_count": 18,
     "metadata": {},
     "output_type": "execute_result"
    }
   ],
   "source": [
    "arr"
   ]
  },
  {
   "cell_type": "code",
   "execution_count": 19,
   "id": "26c7f956-895e-46cd-8139-fd4120742f4a",
   "metadata": {},
   "outputs": [
    {
     "data": {
      "text/plain": [
       "1"
      ]
     },
     "execution_count": 19,
     "metadata": {},
     "output_type": "execute_result"
    }
   ],
   "source": [
    "arr.ndim"
   ]
  },
  {
   "cell_type": "code",
   "execution_count": null,
   "id": "8f26463a-aeb6-4aa0-b23f-fed47fec1770",
   "metadata": {},
   "outputs": [],
   "source": []
  },
  {
   "cell_type": "markdown",
   "id": "407b7aea-48fa-46fc-bd74-476fabf44fb5",
   "metadata": {},
   "source": [
    "####  Arange genrates a array with numbers in a range "
   ]
  },
  {
   "cell_type": "code",
   "execution_count": 7,
   "id": "6f0e9f53-e4c4-44c5-9265-2465f1453b79",
   "metadata": {},
   "outputs": [],
   "source": [
    "arr = np.arange(26)  "
   ]
  },
  {
   "cell_type": "code",
   "execution_count": 25,
   "id": "6cdfed85-d65b-4de7-a3fc-dd87a6052763",
   "metadata": {},
   "outputs": [
    {
     "data": {
      "text/plain": [
       "array([ 0,  1,  2,  3,  4,  5,  6,  7,  8,  9, 10, 11, 12, 13, 14, 15, 16,\n",
       "       17, 18, 19, 20, 21, 22, 23, 24, 25])"
      ]
     },
     "execution_count": 25,
     "metadata": {},
     "output_type": "execute_result"
    }
   ],
   "source": [
    "arr"
   ]
  },
  {
   "cell_type": "code",
   "execution_count": 36,
   "id": "a7b03d89-10cb-4e52-98ca-dd1838312851",
   "metadata": {},
   "outputs": [
    {
     "data": {
      "text/plain": [
       "array([ 0,  1,  2,  3,  4,  5,  6,  7,  8,  9, 10, 11, 12, 13, 14, 15, 16,\n",
       "       17, 18, 19, 20, 21, 22, 23, 24, 25])"
      ]
     },
     "execution_count": 36,
     "metadata": {},
     "output_type": "execute_result"
    }
   ],
   "source": [
    "arr.reshape(-1)"
   ]
  },
  {
   "cell_type": "code",
   "execution_count": null,
   "id": "580c14d2-676e-43ae-8dc0-979c68333c63",
   "metadata": {},
   "outputs": [],
   "source": []
  },
  {
   "cell_type": "markdown",
   "id": "3ac78b3e-b26f-4cf2-9205-803b86a4002f",
   "metadata": {},
   "source": [
    "#### Linspace genrates number linearly spaced index including index."
   ]
  },
  {
   "cell_type": "code",
   "execution_count": 37,
   "id": "f4148a8c-e374-4d2b-82d7-76abd871d17d",
   "metadata": {},
   "outputs": [
    {
     "data": {
      "text/plain": [
       "array([ 1.,  2.,  3.,  4.,  5.,  6.,  7.,  8.,  9., 10.])"
      ]
     },
     "execution_count": 37,
     "metadata": {},
     "output_type": "execute_result"
    }
   ],
   "source": [
    "np.linspace(1,10,10)"
   ]
  },
  {
   "cell_type": "code",
   "execution_count": 39,
   "id": "88155a41-b4b4-45e4-b999-e962c04645ed",
   "metadata": {},
   "outputs": [
    {
     "data": {
      "text/plain": [
       "array([ 1.  ,  3.25,  5.5 ,  7.75, 10.  ])"
      ]
     },
     "execution_count": 39,
     "metadata": {},
     "output_type": "execute_result"
    }
   ],
   "source": [
    "np.linspace(1,10,5)"
   ]
  },
  {
   "cell_type": "code",
   "execution_count": 5,
   "id": "ef0a718f-7baa-4957-bbe3-9c3107336c34",
   "metadata": {},
   "outputs": [
    {
     "data": {
      "text/plain": [
       "array([ 0.,  5., 10., 15., 20.])"
      ]
     },
     "execution_count": 5,
     "metadata": {},
     "output_type": "execute_result"
    }
   ],
   "source": [
    "np.linspace(0,20,5)"
   ]
  },
  {
   "cell_type": "code",
   "execution_count": 9,
   "id": "6742991d-ec66-4899-a773-cc75fdcf2349",
   "metadata": {},
   "outputs": [
    {
     "data": {
      "text/plain": [
       "array([ 1.  ,  5.75, 10.5 , 15.25, 20.  ])"
      ]
     },
     "execution_count": 9,
     "metadata": {},
     "output_type": "execute_result"
    }
   ],
   "source": [
    "np.linspace(1,20,5)"
   ]
  },
  {
   "cell_type": "markdown",
   "id": "0a95263b-4b24-4708-a536-d7bd8fc73174",
   "metadata": {},
   "source": [
    "### RANDOM FUNCTIONS"
   ]
  },
  {
   "cell_type": "markdown",
   "id": "7f731476-5f77-419f-932e-fb78325ad581",
   "metadata": {},
   "source": [
    "##### Random genrates array random numbers from uniform distribution between 0 and 1\n",
    "##### Uniform distribution me sb numbers ke ane ka chance brabar hote hai"
   ]
  },
  {
   "cell_type": "code",
   "execution_count": 41,
   "id": "123b882a-7e9b-4831-a0c9-5cf82b6e347a",
   "metadata": {},
   "outputs": [
    {
     "data": {
      "text/plain": [
       "array([0.49231579, 0.99422703, 0.11893778, 0.37017878, 0.09835676])"
      ]
     },
     "execution_count": 41,
     "metadata": {},
     "output_type": "execute_result"
    }
   ],
   "source": [
    "np.random.rand(5)"
   ]
  },
  {
   "cell_type": "code",
   "execution_count": 42,
   "id": "d95e4f2b-801d-43e3-8ba8-33fa1ae7276e",
   "metadata": {},
   "outputs": [
    {
     "data": {
      "text/plain": [
       "array([[0.13509183, 0.34532602, 0.91739959],\n",
       "       [0.48558857, 0.63157461, 0.2439682 ],\n",
       "       [0.38506474, 0.16419038, 0.45474487],\n",
       "       [0.78428645, 0.03675527, 0.8476522 ],\n",
       "       [0.70500556, 0.16298415, 0.2079115 ]])"
      ]
     },
     "execution_count": 42,
     "metadata": {},
     "output_type": "execute_result"
    }
   ],
   "source": [
    "np.random.rand(5,3)"
   ]
  },
  {
   "cell_type": "code",
   "execution_count": null,
   "id": "8d4e8a45-f180-4727-988b-03e2e310b09f",
   "metadata": {},
   "outputs": [],
   "source": []
  },
  {
   "cell_type": "markdown",
   "id": "eeed5d11-6086-4267-9c2d-2225f6871f32",
   "metadata": {},
   "source": [
    "#### Genrates array random numbers from normal distribution between 0 and 1\n",
    "#### normal distribution me bich ka number ane ka jyda chance hote h"
   ]
  },
  {
   "cell_type": "code",
   "execution_count": 43,
   "id": "2adf6e8a-66ef-4274-a365-3ebd80f51990",
   "metadata": {},
   "outputs": [
    {
     "data": {
      "text/plain": [
       "array([ 0.13725251, -0.3700491 , -2.37099123, -0.52055978, -0.37911535])"
      ]
     },
     "execution_count": 43,
     "metadata": {},
     "output_type": "execute_result"
    }
   ],
   "source": [
    "np.random.randn(5)"
   ]
  },
  {
   "cell_type": "code",
   "execution_count": 44,
   "id": "6f14a5b4-f488-4d49-8b5c-69111f583f4c",
   "metadata": {},
   "outputs": [
    {
     "data": {
      "text/plain": [
       "array([[ 0.21842967, -0.36489334, -0.88446382, -0.40825986, -1.55478672],\n",
       "       [ 0.68849223, -1.03018064,  0.19219251, -1.42765876, -0.09818696],\n",
       "       [ 1.15872224, -0.8082734 , -0.05000046, -0.79158166,  1.26046062],\n",
       "       [-1.17046196,  0.10795754,  0.09880914, -1.77726539, -1.64229536],\n",
       "       [ 0.32379985, -0.20243772,  1.30683778,  0.33110978, -1.64741004]])"
      ]
     },
     "execution_count": 44,
     "metadata": {},
     "output_type": "execute_result"
    }
   ],
   "source": [
    "np.random.randn(5,5)"
   ]
  },
  {
   "cell_type": "code",
   "execution_count": 45,
   "id": "bf16aeeb-3b44-4502-84f0-9c76eb3e75df",
   "metadata": {},
   "outputs": [
    {
     "data": {
      "text/plain": [
       "array([[-0.71106352,  0.4704961 ],\n",
       "       [ 0.79957732,  1.15709848]])"
      ]
     },
     "execution_count": 45,
     "metadata": {},
     "output_type": "execute_result"
    }
   ],
   "source": [
    "np.random.randn(2,2)"
   ]
  },
  {
   "cell_type": "code",
   "execution_count": null,
   "id": "630bc638-0020-4f08-ba90-136d0e1f837d",
   "metadata": {},
   "outputs": [],
   "source": []
  },
  {
   "cell_type": "code",
   "execution_count": null,
   "id": "fa3768e0-cba8-46ee-bc23-081b989d45a4",
   "metadata": {},
   "outputs": [],
   "source": [
    "#### Random.randit genrate array of random numbersn betwwen starting and ending"
   ]
  },
  {
   "cell_type": "code",
   "execution_count": 50,
   "id": "7874281b-af5b-4551-9a76-7db3c83d49c9",
   "metadata": {},
   "outputs": [
    {
     "data": {
      "text/plain": [
       "array([[98, 23, 97,  5, 72, 13],\n",
       "       [81, 92, 80, 16, 72, 58],\n",
       "       [90, 92, 35,  2, 40, 90]], dtype=int32)"
      ]
     },
     "execution_count": 50,
     "metadata": {},
     "output_type": "execute_result"
    }
   ],
   "source": [
    "np.random.randint(0,100,(3,6))  "
   ]
  },
  {
   "cell_type": "code",
   "execution_count": 10,
   "id": "ffdc7400-bfc7-4663-b9ef-b65040ee266d",
   "metadata": {},
   "outputs": [],
   "source": [
    "A = np.random.randint(0,100,(3,6))"
   ]
  },
  {
   "cell_type": "code",
   "execution_count": 11,
   "id": "32c356bf-b2ef-42ad-a086-af6cb8114ba2",
   "metadata": {},
   "outputs": [
    {
     "data": {
      "text/plain": [
       "array([[77, 79, 86, 76,  5, 12],\n",
       "       [85, 50, 80, 46, 39, 72],\n",
       "       [80, 74, 73, 13, 42, 75]], dtype=int32)"
      ]
     },
     "execution_count": 11,
     "metadata": {},
     "output_type": "execute_result"
    }
   ],
   "source": [
    "A"
   ]
  },
  {
   "cell_type": "code",
   "execution_count": 24,
   "id": "30fb0acd-9bdb-46d3-a6a6-b6beb2087897",
   "metadata": {},
   "outputs": [],
   "source": [
    "Arr = np.array([2,4,5,6,7,1,9,1,23,4,12])"
   ]
  },
  {
   "cell_type": "code",
   "execution_count": 25,
   "id": "5bda5f0e-3275-4658-9481-f2d91a8f5fa0",
   "metadata": {},
   "outputs": [
    {
     "data": {
      "text/plain": [
       "array([ 2,  4,  5,  6,  7,  1,  9,  1, 23,  4, 12])"
      ]
     },
     "execution_count": 25,
     "metadata": {},
     "output_type": "execute_result"
    }
   ],
   "source": [
    "Arr"
   ]
  },
  {
   "cell_type": "code",
   "execution_count": 26,
   "id": "3aeabe29-b4c8-4b73-b72e-d1b07b9cddba",
   "metadata": {},
   "outputs": [
    {
     "data": {
      "text/plain": [
       "array([ 2,  4,  5,  6,  7,  1,  9,  1, 23,  4, 12])"
      ]
     },
     "execution_count": 26,
     "metadata": {},
     "output_type": "execute_result"
    }
   ],
   "source": [
    "Arr.reshape(-1)"
   ]
  },
  {
   "cell_type": "markdown",
   "id": "cc621707-6c03-4297-a1d8-0414f1ebe133",
   "metadata": {},
   "source": [
    "##### flatten helps to convert a multi dimensional array into a 1-D array\n",
    "##### flatten me f,c,x,a help krte h new order banane me"
   ]
  },
  {
   "cell_type": "code",
   "execution_count": 12,
   "id": "9b2a79f0-1cd3-47a3-bcfe-f0d4eca4d5e9",
   "metadata": {},
   "outputs": [
    {
     "data": {
      "text/plain": [
       "array([77, 85, 80, 79, 50, 74, 86, 80, 73, 76, 46, 13,  5, 39, 42, 12, 72,\n",
       "       75], dtype=int32)"
      ]
     },
     "execution_count": 12,
     "metadata": {},
     "output_type": "execute_result"
    }
   ],
   "source": [
    "A.flatten(order= 'f')"
   ]
  },
  {
   "cell_type": "code",
   "execution_count": 21,
   "id": "e1474aeb-952b-4d9e-a1ca-7c6f13a48c57",
   "metadata": {},
   "outputs": [
    {
     "data": {
      "text/plain": [
       "array([77, 79, 86, 76,  5, 12, 85, 50, 80, 46, 39, 72, 80, 74, 73, 13, 42,\n",
       "       75], dtype=int32)"
      ]
     },
     "execution_count": 21,
     "metadata": {},
     "output_type": "execute_result"
    }
   ],
   "source": [
    "A.flatten(order = 'C')"
   ]
  },
  {
   "cell_type": "code",
   "execution_count": 31,
   "id": "20889e11-2679-46c4-afce-3b00a5c574ff",
   "metadata": {},
   "outputs": [
    {
     "data": {
      "text/plain": [
       "array([77, 79, 86, 76,  5, 12, 85, 50, 80, 46, 39, 72, 80, 74, 73, 13, 42,\n",
       "       75], dtype=int32)"
      ]
     },
     "execution_count": 31,
     "metadata": {},
     "output_type": "execute_result"
    }
   ],
   "source": [
    "A.flatten(order = 'a')"
   ]
  },
  {
   "cell_type": "code",
   "execution_count": 30,
   "id": "0189003b-26b0-499e-99ed-5680c70e742f",
   "metadata": {},
   "outputs": [
    {
     "data": {
      "text/plain": [
       "array([[77, 79, 86, 76,  5, 12],\n",
       "       [85, 50, 80, 46, 39, 72],\n",
       "       [80, 74, 73, 13, 42, 75]], dtype=int32)"
      ]
     },
     "execution_count": 30,
     "metadata": {},
     "output_type": "execute_result"
    }
   ],
   "source": [
    "A"
   ]
  },
  {
   "cell_type": "markdown",
   "id": "73fac192-aaa2-4657-97a9-ea05f4fd2860",
   "metadata": {},
   "source": [
    "### MATRIX"
   ]
  },
  {
   "cell_type": "markdown",
   "id": "824dfd03-668f-4ce4-8861-bf0470f12586",
   "metadata": {},
   "source": [
    "##### MATRIX HELPS IN ARRANGEMENT OF DATA IN RECTANGULAR FORM\n"
   ]
  },
  {
   "cell_type": "markdown",
   "id": "ea153377-10ae-4433-a256-25fe430a98c4",
   "metadata": {},
   "source": [
    "##### RECTANGULAR MATRIX"
   ]
  },
  {
   "cell_type": "code",
   "execution_count": 70,
   "id": "353d4a6f-a5cb-41f7-b6ec-7612777536c4",
   "metadata": {
    "scrolled": true
   },
   "outputs": [
    {
     "data": {
      "text/plain": [
       "array([[33, 43, 78],\n",
       "       [59, 91, 27],\n",
       "       [36, 88, 59],\n",
       "       [82, 78, 12],\n",
       "       [20, 50, 19]], dtype=int32)"
      ]
     },
     "execution_count": 70,
     "metadata": {},
     "output_type": "execute_result"
    }
   ],
   "source": [
    "np.random.randint(0,100,(5,3))"
   ]
  },
  {
   "cell_type": "markdown",
   "id": "589c9651-363b-4375-aea3-528f2c72ba37",
   "metadata": {},
   "source": [
    "##### SQUARE MATRIX"
   ]
  },
  {
   "cell_type": "code",
   "execution_count": 73,
   "id": "74463c0a-9973-4043-944d-b052722c3e1e",
   "metadata": {},
   "outputs": [
    {
     "data": {
      "text/plain": [
       "array([[16, 41, 74, 68, 25],\n",
       "       [82, 81, 74, 38, 80],\n",
       "       [25, 32, 47, 48, 57],\n",
       "       [94, 11, 37, 83, 71],\n",
       "       [60, 80, 70, 97, 29]], dtype=int32)"
      ]
     },
     "execution_count": 73,
     "metadata": {},
     "output_type": "execute_result"
    }
   ],
   "source": [
    "np.random.randint(0,100,(5,5))"
   ]
  },
  {
   "cell_type": "markdown",
   "id": "1d22a87b-bac5-42fe-a7ce-96b28832be70",
   "metadata": {},
   "source": [
    "#####  UPPER TRIANGLE MATRIX isme diagonal ke uper vale triangle se number uthate h. or triangle nhi utaya udhr 0 aa jata hai."
   ]
  },
  {
   "cell_type": "code",
   "execution_count": 74,
   "id": "b8ff08ff-1a9d-4fbc-ba09-97d6f5843d67",
   "metadata": {},
   "outputs": [
    {
     "data": {
      "text/plain": [
       "array([[1, 2, 3],\n",
       "       [0, 4, 5],\n",
       "       [0, 0, 6]])"
      ]
     },
     "execution_count": 74,
     "metadata": {},
     "output_type": "execute_result"
    }
   ],
   "source": [
    "np.array([\n",
    "    [1,2,3],\n",
    "    [0,4,5],\n",
    "    [0,0,6]\n",
    "    \n",
    "])"
   ]
  },
  {
   "cell_type": "markdown",
   "id": "05b81f80-827c-4c52-80b5-e7bcb000d7b0",
   "metadata": {},
   "source": [
    "##### LOWER TRAINGLE MATRIX isme daigonal ke niche bale triangle se number uthate h"
   ]
  },
  {
   "cell_type": "code",
   "execution_count": 87,
   "id": "ed85c95c-8836-4c56-a2db-79266cdc5798",
   "metadata": {},
   "outputs": [
    {
     "data": {
      "text/plain": [
       "array([[1, 0, 0],\n",
       "       [2, 3, 0],\n",
       "       [4, 5, 6]])"
      ]
     },
     "execution_count": 87,
     "metadata": {},
     "output_type": "execute_result"
    }
   ],
   "source": [
    "np.array([\n",
    "    [1,0,0],\n",
    "    [2,3,0],\n",
    "    [4,5,6]\n",
    "    \n",
    "])"
   ]
  },
  {
   "cell_type": "markdown",
   "id": "a0624c43-d949-47d5-a1be-94fbfb807386",
   "metadata": {},
   "source": [
    "##### Diagonal matrix me bich ke number uthate h diagonal se or baki ki value 0 hoti h"
   ]
  },
  {
   "cell_type": "code",
   "execution_count": 89,
   "id": "4575b7f7-59db-4bd8-80ae-4fa6071d0913",
   "metadata": {
    "scrolled": true
   },
   "outputs": [
    {
     "data": {
      "text/plain": [
       "array([[1, 0, 0],\n",
       "       [0, 2, 0],\n",
       "       [0, 0, 3]])"
      ]
     },
     "execution_count": 89,
     "metadata": {},
     "output_type": "execute_result"
    }
   ],
   "source": [
    "np.array([\n",
    "    [1,0,0],\n",
    "    [0,2,0],\n",
    "    [0,0,3]\n",
    "])"
   ]
  },
  {
   "cell_type": "markdown",
   "id": "f2486533-4b64-4925-889e-e670876f0757",
   "metadata": {},
   "source": [
    "##### identity matrix -- in this all the elements on the main diagonal from top left to the bottom-right are 1 and all the other elemnts are 0"
   ]
  },
  {
   "cell_type": "code",
   "execution_count": 2,
   "id": "1bd1571b-0255-4599-90ef-d31ce5a8bef0",
   "metadata": {},
   "outputs": [
    {
     "data": {
      "text/plain": [
       "array([[1., 0., 0., 0., 0.],\n",
       "       [0., 1., 0., 0., 0.],\n",
       "       [0., 0., 1., 0., 0.],\n",
       "       [0., 0., 0., 1., 0.],\n",
       "       [0., 0., 0., 0., 1.]])"
      ]
     },
     "execution_count": 2,
     "metadata": {},
     "output_type": "execute_result"
    }
   ],
   "source": [
    "np.eye(5)"
   ]
  },
  {
   "cell_type": "code",
   "execution_count": 3,
   "id": "5e985f0f-ba43-440e-b22a-4ba2d66ce02a",
   "metadata": {},
   "outputs": [
    {
     "data": {
      "text/plain": [
       "array([[1., 0., 0., 0., 0., 0., 0., 0., 0., 0.],\n",
       "       [0., 1., 0., 0., 0., 0., 0., 0., 0., 0.],\n",
       "       [0., 0., 1., 0., 0., 0., 0., 0., 0., 0.],\n",
       "       [0., 0., 0., 1., 0., 0., 0., 0., 0., 0.],\n",
       "       [0., 0., 0., 0., 1., 0., 0., 0., 0., 0.],\n",
       "       [0., 0., 0., 0., 0., 1., 0., 0., 0., 0.],\n",
       "       [0., 0., 0., 0., 0., 0., 1., 0., 0., 0.],\n",
       "       [0., 0., 0., 0., 0., 0., 0., 1., 0., 0.],\n",
       "       [0., 0., 0., 0., 0., 0., 0., 0., 1., 0.],\n",
       "       [0., 0., 0., 0., 0., 0., 0., 0., 0., 1.]])"
      ]
     },
     "execution_count": 3,
     "metadata": {},
     "output_type": "execute_result"
    }
   ],
   "source": [
    "np.eye(10)"
   ]
  },
  {
   "cell_type": "code",
   "execution_count": null,
   "id": "aa58cf85-42d4-4431-9447-8142014643d9",
   "metadata": {},
   "outputs": [],
   "source": []
  },
  {
   "cell_type": "code",
   "execution_count": null,
   "id": "2e5b911d-b3c6-441d-a769-a39536c50437",
   "metadata": {},
   "outputs": [],
   "source": []
  },
  {
   "cell_type": "markdown",
   "id": "9c042a31-b94c-4f75-a7a8-d9c9182ed704",
   "metadata": {},
   "source": [
    "##### TRANSPOSE MATRIX me jo row hote h bo column ban jate h or jo column hote h bo row ban jate h"
   ]
  },
  {
   "cell_type": "code",
   "execution_count": 84,
   "id": "4e2f66a6-309a-4708-9a68-30a359421e69",
   "metadata": {},
   "outputs": [],
   "source": [
    "Array = np.random.randint(0,100,(5,5))"
   ]
  },
  {
   "cell_type": "code",
   "execution_count": 85,
   "id": "86a033db-fd6c-4c04-abf3-ae87a02c8149",
   "metadata": {},
   "outputs": [
    {
     "data": {
      "text/plain": [
       "array([[33, 39, 33, 19, 87],\n",
       "       [58, 98, 11, 55, 51],\n",
       "       [14, 17, 14, 79, 43],\n",
       "       [83, 99, 54, 87, 81],\n",
       "       [94, 91, 59, 77, 26]], dtype=int32)"
      ]
     },
     "execution_count": 85,
     "metadata": {},
     "output_type": "execute_result"
    }
   ],
   "source": [
    "Array"
   ]
  },
  {
   "cell_type": "code",
   "execution_count": 86,
   "id": "a1edd9d6-7474-4f07-bdc0-1b80a8d83432",
   "metadata": {},
   "outputs": [
    {
     "data": {
      "text/plain": [
       "array([[33, 58, 14, 83, 94],\n",
       "       [39, 98, 17, 99, 91],\n",
       "       [33, 11, 14, 54, 59],\n",
       "       [19, 55, 79, 87, 77],\n",
       "       [87, 51, 43, 81, 26]], dtype=int32)"
      ]
     },
     "execution_count": 86,
     "metadata": {},
     "output_type": "execute_result"
    }
   ],
   "source": [
    "Array.transpose()"
   ]
  },
  {
   "cell_type": "code",
   "execution_count": null,
   "id": "8c3ee469-4d5c-4cc0-8e5e-772d50f02f20",
   "metadata": {},
   "outputs": [],
   "source": []
  },
  {
   "cell_type": "code",
   "execution_count": 36,
   "id": "a1c8935f-c395-4e6a-9407-5524fd5f3886",
   "metadata": {},
   "outputs": [],
   "source": [
    "A = np.random.randint(0,100,(5,5))"
   ]
  },
  {
   "cell_type": "code",
   "execution_count": 37,
   "id": "f546ead0-3ddb-4224-93bc-ab07dfd25cbd",
   "metadata": {},
   "outputs": [
    {
     "data": {
      "text/plain": [
       "array([[50, 19, 21, 92, 11],\n",
       "       [56, 28, 74, 76, 48],\n",
       "       [84, 67, 10, 86, 97],\n",
       "       [72, 17, 57, 19, 51],\n",
       "       [47, 63, 24, 60, 29]], dtype=int32)"
      ]
     },
     "execution_count": 37,
     "metadata": {},
     "output_type": "execute_result"
    }
   ],
   "source": [
    "A"
   ]
  },
  {
   "cell_type": "code",
   "execution_count": 38,
   "id": "903effc1-f808-444f-9159-b0b1e156f3f8",
   "metadata": {},
   "outputs": [
    {
     "data": {
      "text/plain": [
       "array([[50, 56, 84, 72, 47],\n",
       "       [19, 28, 67, 17, 63],\n",
       "       [21, 74, 10, 57, 24],\n",
       "       [92, 76, 86, 19, 60],\n",
       "       [11, 48, 97, 51, 29]], dtype=int32)"
      ]
     },
     "execution_count": 38,
     "metadata": {},
     "output_type": "execute_result"
    }
   ],
   "source": [
    "A.transpose()"
   ]
  },
  {
   "cell_type": "code",
   "execution_count": null,
   "id": "4e49a0cd-10e2-4ab6-83ef-4c81da3cff60",
   "metadata": {},
   "outputs": [],
   "source": []
  },
  {
   "cell_type": "code",
   "execution_count": null,
   "id": "d3df7bd5-d06f-467f-b31c-7bb9b545edf1",
   "metadata": {},
   "outputs": [],
   "source": []
  },
  {
   "cell_type": "markdown",
   "id": "895b68a1-2124-4166-9252-2fb683de0df7",
   "metadata": {},
   "source": [
    "##### ONE AND ZER0"
   ]
  },
  {
   "cell_type": "code",
   "execution_count": 5,
   "id": "5dccf9e4-9480-4e34-97f3-d38da3330d92",
   "metadata": {},
   "outputs": [],
   "source": [
    "zero = np.zeros((5,5))"
   ]
  },
  {
   "cell_type": "code",
   "execution_count": 6,
   "id": "7f4948a3-7916-4583-bff2-51632353b5a5",
   "metadata": {},
   "outputs": [
    {
     "data": {
      "text/plain": [
       "array([0., 0., 0., 0., 0., 0.])"
      ]
     },
     "execution_count": 6,
     "metadata": {},
     "output_type": "execute_result"
    }
   ],
   "source": [
    "np.zeros(6)"
   ]
  },
  {
   "cell_type": "code",
   "execution_count": 7,
   "id": "57a1c1be-5d5f-4b5e-8b5c-7efe92fdfcae",
   "metadata": {},
   "outputs": [
    {
     "data": {
      "text/plain": [
       "array([[0., 0., 0., 0., 0.],\n",
       "       [0., 0., 0., 0., 0.],\n",
       "       [0., 0., 0., 0., 0.],\n",
       "       [0., 0., 0., 0., 0.],\n",
       "       [0., 0., 0., 0., 0.]])"
      ]
     },
     "execution_count": 7,
     "metadata": {},
     "output_type": "execute_result"
    }
   ],
   "source": [
    "zero"
   ]
  },
  {
   "cell_type": "code",
   "execution_count": 10,
   "id": "fc0fb9c3-0136-4e50-8474-935c9eb7da39",
   "metadata": {},
   "outputs": [
    {
     "data": {
      "text/plain": [
       "array([1., 1., 1., 1., 1., 1.])"
      ]
     },
     "execution_count": 10,
     "metadata": {},
     "output_type": "execute_result"
    }
   ],
   "source": [
    "np.ones(6)"
   ]
  },
  {
   "cell_type": "code",
   "execution_count": 13,
   "id": "a24374a7-7c00-42f7-b60d-e57cca6ceab0",
   "metadata": {},
   "outputs": [
    {
     "data": {
      "text/plain": [
       "array([[1., 1., 1., 1., 1., 1.],\n",
       "       [1., 1., 1., 1., 1., 1.],\n",
       "       [1., 1., 1., 1., 1., 1.],\n",
       "       [1., 1., 1., 1., 1., 1.],\n",
       "       [1., 1., 1., 1., 1., 1.],\n",
       "       [1., 1., 1., 1., 1., 1.]])"
      ]
     },
     "execution_count": 13,
     "metadata": {},
     "output_type": "execute_result"
    }
   ],
   "source": [
    "np.ones((6,6))"
   ]
  },
  {
   "cell_type": "code",
   "execution_count": null,
   "id": "b8839dde-84fe-4e90-ac9c-181651157fdf",
   "metadata": {},
   "outputs": [],
   "source": [
    "\n"
   ]
  }
 ],
 "metadata": {
  "kernelspec": {
   "display_name": "Python [conda env:base] *",
   "language": "python",
   "name": "conda-base-py"
  },
  "language_info": {
   "codemirror_mode": {
    "name": "ipython",
    "version": 3
   },
   "file_extension": ".py",
   "mimetype": "text/x-python",
   "name": "python",
   "nbconvert_exporter": "python",
   "pygments_lexer": "ipython3",
   "version": "3.13.5"
  }
 },
 "nbformat": 4,
 "nbformat_minor": 5
}
