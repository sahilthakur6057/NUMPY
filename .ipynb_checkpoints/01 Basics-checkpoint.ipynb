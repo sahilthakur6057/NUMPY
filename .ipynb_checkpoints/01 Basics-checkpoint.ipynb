{
 "cells": [
  {
   "cell_type": "code",
   "execution_count": 1,
   "id": "2ec92923-9079-4351-b020-1e990e52757a",
   "metadata": {},
   "outputs": [
    {
     "name": "stdout",
     "output_type": "stream",
     "text": [
      "Requirement already satisfied: numpy in c:\\users\\user\\anaconda.apk\\lib\\site-packages (2.1.3)\n",
      "Note: you may need to restart the kernel to use updated packages.\n"
     ]
    }
   ],
   "source": [
    "pip install numpy"
   ]
  },
  {
   "cell_type": "markdown",
   "id": "ac74824d-9998-406f-bc24-099b6407bf15",
   "metadata": {},
   "source": [
    "# import numpy"
   ]
  },
  {
   "cell_type": "code",
   "execution_count": 4,
   "id": "774eae8b-a521-4311-bc89-295a2f0b48a6",
   "metadata": {},
   "outputs": [],
   "source": [
    "import numpy as np"
   ]
  },
  {
   "cell_type": "markdown",
   "id": "545ba146-4f5e-4aa6-95aa-633aa658c288",
   "metadata": {},
   "source": [
    "## creating array"
   ]
  },
  {
   "cell_type": "code",
   "execution_count": 5,
   "id": "c3070076-f389-41b8-a7cb-2ddb9631d124",
   "metadata": {},
   "outputs": [],
   "source": [
    "numList = [5,1,3]"
   ]
  },
  {
   "cell_type": "code",
   "execution_count": 13,
   "id": "c9bacfa1-a1f8-48d3-a4da-ab829a432d0d",
   "metadata": {},
   "outputs": [],
   "source": [
    "floatList = [5.3,1.1,3.4]"
   ]
  },
  {
   "cell_type": "code",
   "execution_count": 6,
   "id": "699bac36-0d15-4f0b-9e2b-ad4092fddb31",
   "metadata": {},
   "outputs": [],
   "source": [
    "textList = ['sahil', 'harjeet', 'ujwal']"
   ]
  },
  {
   "cell_type": "code",
   "execution_count": 7,
   "id": "ee213ab2-259c-4374-bb28-2adc62017f36",
   "metadata": {},
   "outputs": [],
   "source": [
    "boolList = [True,False,True]"
   ]
  },
  {
   "cell_type": "code",
   "execution_count": 8,
   "id": "cf3803a7-718e-4cb4-b863-c1dd632820f0",
   "metadata": {},
   "outputs": [],
   "source": [
    "numArr = np.array(numList)"
   ]
  },
  {
   "cell_type": "code",
   "execution_count": 9,
   "id": "bbcf1b7e-54a3-4604-b673-b12d68ebb8e8",
   "metadata": {},
   "outputs": [
    {
     "name": "stdout",
     "output_type": "stream",
     "text": [
      "[5 1 3]\n"
     ]
    }
   ],
   "source": [
    "print(numArr)"
   ]
  },
  {
   "cell_type": "code",
   "execution_count": 10,
   "id": "cf7e0f10-57a0-4ba7-9773-e2571c76ad7e",
   "metadata": {},
   "outputs": [
    {
     "data": {
      "text/plain": [
       "array([5, 1, 3])"
      ]
     },
     "execution_count": 10,
     "metadata": {},
     "output_type": "execute_result"
    }
   ],
   "source": [
    "numArr"
   ]
  },
  {
   "cell_type": "code",
   "execution_count": 14,
   "id": "c29a0378-94ee-488d-a9fd-a4235dacc502",
   "metadata": {},
   "outputs": [],
   "source": [
    "floatArr = np.array(floatList)"
   ]
  },
  {
   "cell_type": "code",
   "execution_count": 15,
   "id": "eb03dae9-b4df-4b90-bad7-7da100dcd0c0",
   "metadata": {},
   "outputs": [
    {
     "data": {
      "text/plain": [
       "dtype('float64')"
      ]
     },
     "execution_count": 15,
     "metadata": {},
     "output_type": "execute_result"
    }
   ],
   "source": [
    "floatArr.dtype"
   ]
  },
  {
   "cell_type": "code",
   "execution_count": 16,
   "id": "58cb2d05-1a91-4ca0-9797-04cf9d051726",
   "metadata": {},
   "outputs": [
    {
     "data": {
      "text/plain": [
       "array([5.3, 1.1, 3.4])"
      ]
     },
     "execution_count": 16,
     "metadata": {},
     "output_type": "execute_result"
    }
   ],
   "source": [
    "floatArr"
   ]
  },
  {
   "cell_type": "code",
   "execution_count": 17,
   "id": "4a86f285-7214-4c63-8d86-19678e93585f",
   "metadata": {},
   "outputs": [
    {
     "name": "stdout",
     "output_type": "stream",
     "text": [
      "[5.3 1.1 3.4]\n"
     ]
    }
   ],
   "source": [
    "print(floatArr)"
   ]
  },
  {
   "cell_type": "code",
   "execution_count": 18,
   "id": "829bd2d4-bfbc-44c6-a371-70db9da7a26b",
   "metadata": {},
   "outputs": [],
   "source": [
    "textArr = np.array(textList)"
   ]
  },
  {
   "cell_type": "code",
   "execution_count": 19,
   "id": "c655f5bc-f334-4e32-a93f-633a7466d93c",
   "metadata": {},
   "outputs": [
    {
     "data": {
      "text/plain": [
       "array(['sahil', 'harjeet', 'ujwal'], dtype='<U7')"
      ]
     },
     "execution_count": 19,
     "metadata": {},
     "output_type": "execute_result"
    }
   ],
   "source": [
    "textArr"
   ]
  },
  {
   "cell_type": "code",
   "execution_count": 20,
   "id": "adf7a687-d10e-4166-9e31-e27eb203523c",
   "metadata": {},
   "outputs": [
    {
     "data": {
      "text/plain": [
       "dtype('<U7')"
      ]
     },
     "execution_count": 20,
     "metadata": {},
     "output_type": "execute_result"
    }
   ],
   "source": [
    "textArr.dtype"
   ]
  },
  {
   "cell_type": "code",
   "execution_count": 21,
   "id": "20e9cb34-f50f-4388-921e-6dd24becf83e",
   "metadata": {},
   "outputs": [],
   "source": [
    "boolArr = np.array(boolList)"
   ]
  },
  {
   "cell_type": "code",
   "execution_count": 22,
   "id": "357b0917-7a70-4c31-99f7-abb6bf3b27c2",
   "metadata": {},
   "outputs": [
    {
     "data": {
      "text/plain": [
       "array([ True, False,  True])"
      ]
     },
     "execution_count": 22,
     "metadata": {},
     "output_type": "execute_result"
    }
   ],
   "source": [
    "boolArr"
   ]
  },
  {
   "cell_type": "code",
   "execution_count": 23,
   "id": "4db85158-17d8-4a85-ab3d-4de49361c52e",
   "metadata": {},
   "outputs": [
    {
     "data": {
      "text/plain": [
       "dtype('bool')"
      ]
     },
     "execution_count": 23,
     "metadata": {},
     "output_type": "execute_result"
    }
   ],
   "source": [
    "boolArr.dtype"
   ]
  },
  {
   "cell_type": "code",
   "execution_count": 25,
   "id": "e805fbc5-3665-4cf9-978b-dd449fb743e9",
   "metadata": {},
   "outputs": [
    {
     "data": {
      "text/plain": [
       "dtype('bool')"
      ]
     },
     "execution_count": 25,
     "metadata": {},
     "output_type": "execute_result"
    }
   ],
   "source": [
    "boolArr.dtype"
   ]
  },
  {
   "cell_type": "code",
   "execution_count": 26,
   "id": "7461525c-b27c-49dc-92ab-43880a6d6daf",
   "metadata": {},
   "outputs": [
    {
     "name": "stdout",
     "output_type": "stream",
     "text": [
      "[ True False  True]\n"
     ]
    }
   ],
   "source": [
    "print(boolArr)"
   ]
  },
  {
   "cell_type": "code",
   "execution_count": null,
   "id": "db735ff8-82a1-4bbb-bb0f-8f5d6736ad38",
   "metadata": {},
   "outputs": [],
   "source": []
  },
  {
   "cell_type": "code",
   "execution_count": 27,
   "id": "5fbe4be9-bf38-4073-bdbe-6693445f66a0",
   "metadata": {},
   "outputs": [
    {
     "data": {
      "text/plain": [
       "array(['5', '6.3', 'True', 'sahil'], dtype='<U32')"
      ]
     },
     "execution_count": 27,
     "metadata": {},
     "output_type": "execute_result"
    }
   ],
   "source": [
    "np.array([5,6.3,True, \"sahil\"])"
   ]
  },
  {
   "cell_type": "code",
   "execution_count": null,
   "id": "8de34c05-9d8d-41be-83b6-cbb80f40fcdb",
   "metadata": {},
   "outputs": [],
   "source": []
  },
  {
   "cell_type": "code",
   "execution_count": null,
   "id": "b75581ea-b650-4227-a896-fa051121790b",
   "metadata": {},
   "outputs": [],
   "source": []
  },
  {
   "cell_type": "code",
   "execution_count": 39,
   "id": "ab633eaf-e8aa-4f04-8e23-5f1ad7495461",
   "metadata": {},
   "outputs": [],
   "source": [
    "Arr = np.array( [8,6,2,4,17,20,4,8,5,6] )"
   ]
  },
  {
   "cell_type": "code",
   "execution_count": 40,
   "id": "e9043743-b3cb-4039-a3b2-958746900117",
   "metadata": {},
   "outputs": [
    {
     "data": {
      "text/plain": [
       "array([ 8,  6,  2,  4, 17, 20,  4,  8,  5,  6])"
      ]
     },
     "execution_count": 40,
     "metadata": {},
     "output_type": "execute_result"
    }
   ],
   "source": [
    "Arr"
   ]
  },
  {
   "cell_type": "code",
   "execution_count": 41,
   "id": "467a552b-ed27-4c7a-be72-c58a2cc9a406",
   "metadata": {},
   "outputs": [
    {
     "data": {
      "text/plain": [
       "(10,)"
      ]
     },
     "execution_count": 41,
     "metadata": {},
     "output_type": "execute_result"
    }
   ],
   "source": [
    "Arr.shape   # total item btayega"
   ]
  },
  {
   "cell_type": "code",
   "execution_count": 50,
   "id": "f90197e5-19fa-4222-bd43-9ed0d4ee870d",
   "metadata": {},
   "outputs": [
    {
     "data": {
      "text/plain": [
       "1"
      ]
     },
     "execution_count": 50,
     "metadata": {},
     "output_type": "execute_result"
    }
   ],
   "source": [
    "Arr.ndim # no. of bracket"
   ]
  },
  {
   "cell_type": "code",
   "execution_count": 51,
   "id": "aca29bf6-9245-41ea-89bc-b90d55315f60",
   "metadata": {},
   "outputs": [
    {
     "data": {
      "text/plain": [
       "10"
      ]
     },
     "execution_count": 51,
     "metadata": {},
     "output_type": "execute_result"
    }
   ],
   "source": [
    "Arr.size"
   ]
  },
  {
   "cell_type": "markdown",
   "id": "0ab951dd-c3d3-4bfc-aa6c-6ffa556b192d",
   "metadata": {},
   "source": [
    "## scaler"
   ]
  },
  {
   "cell_type": "code",
   "execution_count": 43,
   "id": "de2474f2-4af1-4b95-894d-1b12e7a53882",
   "metadata": {},
   "outputs": [],
   "source": [
    "scaler = np.array(5)"
   ]
  },
  {
   "cell_type": "code",
   "execution_count": 44,
   "id": "c496dc87-afa3-4671-90e0-583ea032b350",
   "metadata": {},
   "outputs": [
    {
     "data": {
      "text/plain": [
       "array(5)"
      ]
     },
     "execution_count": 44,
     "metadata": {},
     "output_type": "execute_result"
    }
   ],
   "source": [
    "scaler"
   ]
  },
  {
   "cell_type": "code",
   "execution_count": 45,
   "id": "b52068f1-6e1c-4682-851f-21e97cead89d",
   "metadata": {},
   "outputs": [
    {
     "name": "stdout",
     "output_type": "stream",
     "text": [
      "5\n"
     ]
    }
   ],
   "source": [
    "print(scaler)"
   ]
  },
  {
   "cell_type": "code",
   "execution_count": 46,
   "id": "353df8c1-04b4-48e8-bfba-db93f7f966e8",
   "metadata": {},
   "outputs": [
    {
     "data": {
      "text/plain": [
       "dtype('int64')"
      ]
     },
     "execution_count": 46,
     "metadata": {},
     "output_type": "execute_result"
    }
   ],
   "source": [
    "scaler.dtype"
   ]
  },
  {
   "cell_type": "code",
   "execution_count": 47,
   "id": "459affd0-1439-45d9-a3ed-eb138ff20f94",
   "metadata": {},
   "outputs": [
    {
     "data": {
      "text/plain": [
       "()"
      ]
     },
     "execution_count": 47,
     "metadata": {},
     "output_type": "execute_result"
    }
   ],
   "source": [
    "scaler.shape"
   ]
  },
  {
   "cell_type": "code",
   "execution_count": 48,
   "id": "1103d7ed-a184-42af-a0e7-a96fda81f3d9",
   "metadata": {},
   "outputs": [
    {
     "data": {
      "text/plain": [
       "1"
      ]
     },
     "execution_count": 48,
     "metadata": {},
     "output_type": "execute_result"
    }
   ],
   "source": [
    "scaler.size"
   ]
  },
  {
   "cell_type": "code",
   "execution_count": 49,
   "id": "0efd08b6-50b4-48e5-9897-de6d53ca8423",
   "metadata": {},
   "outputs": [
    {
     "data": {
      "text/plain": [
       "0"
      ]
     },
     "execution_count": 49,
     "metadata": {},
     "output_type": "execute_result"
    }
   ],
   "source": [
    "scaler.ndim"
   ]
  },
  {
   "cell_type": "markdown",
   "id": "d9bf2588-75ff-48ba-b997-6631466ebab8",
   "metadata": {},
   "source": [
    "### vector"
   ]
  },
  {
   "cell_type": "code",
   "execution_count": 52,
   "id": "81e29b1e-a470-4aa1-b51e-06af056562d8",
   "metadata": {},
   "outputs": [],
   "source": [
    "vector = np.array([5,2,3,5])"
   ]
  },
  {
   "cell_type": "code",
   "execution_count": 53,
   "id": "d4423cc1-b24a-48cb-83db-43cb41b27036",
   "metadata": {},
   "outputs": [
    {
     "data": {
      "text/plain": [
       "array([5, 2, 3, 5])"
      ]
     },
     "execution_count": 53,
     "metadata": {},
     "output_type": "execute_result"
    }
   ],
   "source": [
    "vector"
   ]
  },
  {
   "cell_type": "code",
   "execution_count": 54,
   "id": "61a62d9c-09ff-473b-b131-976345975a97",
   "metadata": {},
   "outputs": [
    {
     "name": "stdout",
     "output_type": "stream",
     "text": [
      "[5 2 3 5]\n"
     ]
    }
   ],
   "source": [
    "print(vector)"
   ]
  },
  {
   "cell_type": "code",
   "execution_count": 55,
   "id": "7c900cee-73f2-4250-91d6-d319e0392d52",
   "metadata": {},
   "outputs": [
    {
     "data": {
      "text/plain": [
       "1"
      ]
     },
     "execution_count": 55,
     "metadata": {},
     "output_type": "execute_result"
    }
   ],
   "source": [
    "vector.ndim"
   ]
  },
  {
   "cell_type": "code",
   "execution_count": 56,
   "id": "52e3273f-209f-4735-922c-ac01759b5c0b",
   "metadata": {},
   "outputs": [
    {
     "data": {
      "text/plain": [
       "4"
      ]
     },
     "execution_count": 56,
     "metadata": {},
     "output_type": "execute_result"
    }
   ],
   "source": [
    "vector.size"
   ]
  },
  {
   "cell_type": "code",
   "execution_count": 59,
   "id": "da6ed474-a0e0-4cf8-a843-5e799b3c90a0",
   "metadata": {},
   "outputs": [
    {
     "data": {
      "text/plain": [
       "(4,)"
      ]
     },
     "execution_count": 59,
     "metadata": {},
     "output_type": "execute_result"
    }
   ],
   "source": [
    "vector.shape"
   ]
  },
  {
   "cell_type": "markdown",
   "id": "f3ee2f00-a7b6-49c2-9f5c-8da9a032b13e",
   "metadata": {},
   "source": [
    "## MATRIX\n",
    "### matrix is collection of lot of vector"
   ]
  },
  {
   "cell_type": "code",
   "execution_count": 61,
   "id": "aa52ee81-8f2d-415a-aef2-40f245baaa32",
   "metadata": {},
   "outputs": [],
   "source": [
    "matrix = np.array(\n",
    "    [\n",
    "        [1,2,3],\n",
    "        [4,5,6],\n",
    "        [7,8,9]\n",
    "    ]\n",
    ")"
   ]
  },
  {
   "cell_type": "code",
   "execution_count": 62,
   "id": "fa343011-738d-46e7-a7e2-181814a644ef",
   "metadata": {},
   "outputs": [
    {
     "data": {
      "text/plain": [
       "array([[1, 2, 3],\n",
       "       [4, 5, 6],\n",
       "       [7, 8, 9]])"
      ]
     },
     "execution_count": 62,
     "metadata": {},
     "output_type": "execute_result"
    }
   ],
   "source": [
    "matrix"
   ]
  },
  {
   "cell_type": "code",
   "execution_count": 64,
   "id": "eafc0ce6-b4de-4397-950e-64c5081bab8f",
   "metadata": {},
   "outputs": [
    {
     "data": {
      "text/plain": [
       "(3, 3)"
      ]
     },
     "execution_count": 64,
     "metadata": {},
     "output_type": "execute_result"
    }
   ],
   "source": [
    "matrix.shape"
   ]
  },
  {
   "cell_type": "code",
   "execution_count": 67,
   "id": "d697271a-c4c3-4bae-aab2-0db03161ddb5",
   "metadata": {},
   "outputs": [
    {
     "data": {
      "text/plain": [
       "9"
      ]
     },
     "execution_count": 67,
     "metadata": {},
     "output_type": "execute_result"
    }
   ],
   "source": [
    "matrix.size"
   ]
  },
  {
   "cell_type": "code",
   "execution_count": 68,
   "id": "99884bb2-76b7-4a90-a088-87102a783a8f",
   "metadata": {},
   "outputs": [
    {
     "data": {
      "text/plain": [
       "2"
      ]
     },
     "execution_count": 68,
     "metadata": {},
     "output_type": "execute_result"
    }
   ],
   "source": [
    "matrix.ndim"
   ]
  },
  {
   "cell_type": "code",
   "execution_count": 71,
   "id": "4b8627b7-0eef-4bad-990c-68f8673ae15b",
   "metadata": {},
   "outputs": [],
   "source": [
    "matrix = np.array(\n",
    "    [\n",
    "        [1,2,3,4],\n",
    "        [5,6,7,8],\n",
    "        [9,10,11,12]\n",
    "    ]\n",
    ")"
   ]
  },
  {
   "cell_type": "code",
   "execution_count": 72,
   "id": "20a8f652-5189-4ae5-9671-8b84d87cb7f0",
   "metadata": {},
   "outputs": [
    {
     "data": {
      "text/plain": [
       "array([[ 1,  2,  3,  4],\n",
       "       [ 5,  6,  7,  8],\n",
       "       [ 9, 10, 11, 12]])"
      ]
     },
     "execution_count": 72,
     "metadata": {},
     "output_type": "execute_result"
    }
   ],
   "source": [
    "matrix"
   ]
  },
  {
   "cell_type": "code",
   "execution_count": 75,
   "id": "4fcc8aca-1c0d-4555-b20d-23c5dd68809d",
   "metadata": {},
   "outputs": [
    {
     "data": {
      "text/plain": [
       "(3, 4)"
      ]
     },
     "execution_count": 75,
     "metadata": {},
     "output_type": "execute_result"
    }
   ],
   "source": [
    "matrix.shape"
   ]
  },
  {
   "cell_type": "code",
   "execution_count": 76,
   "id": "142d20d2-4391-4eac-b9ec-8470dbb050be",
   "metadata": {},
   "outputs": [
    {
     "data": {
      "text/plain": [
       "12"
      ]
     },
     "execution_count": 76,
     "metadata": {},
     "output_type": "execute_result"
    }
   ],
   "source": [
    "matrix.size"
   ]
  },
  {
   "cell_type": "code",
   "execution_count": 77,
   "id": "8ae67299-9038-4976-a91c-5b1fdfad32fe",
   "metadata": {},
   "outputs": [
    {
     "data": {
      "text/plain": [
       "2"
      ]
     },
     "execution_count": 77,
     "metadata": {},
     "output_type": "execute_result"
    }
   ],
   "source": [
    "matrix.ndim"
   ]
  },
  {
   "cell_type": "markdown",
   "id": "06aa66f9-309d-4cdb-9cc1-b93533371ea6",
   "metadata": {},
   "source": [
    "## TENSOR \n",
    "### it is multidimensional array"
   ]
  },
  {
   "cell_type": "code",
   "execution_count": 81,
   "id": "c82abd9f-5c89-494e-ba46-7f753cb9a2a2",
   "metadata": {},
   "outputs": [],
   "source": [
    "tensor = np.array([\n",
    "    [\n",
    "        [1,2],\n",
    "        [3,4]\n",
    "    ],\n",
    "\n",
    "    [\n",
    "        [5,6],\n",
    "        [7,8]\n",
    "    ],\n",
    "    \n",
    "   [ \n",
    "        [9,10],\n",
    "        [11,12]\n",
    "    ]\n",
    "])"
   ]
  },
  {
   "cell_type": "code",
   "execution_count": 82,
   "id": "2790235b-01b7-486b-810d-ce2df5495502",
   "metadata": {},
   "outputs": [
    {
     "data": {
      "text/plain": [
       "12"
      ]
     },
     "execution_count": 82,
     "metadata": {},
     "output_type": "execute_result"
    }
   ],
   "source": [
    "tensor.size"
   ]
  },
  {
   "cell_type": "code",
   "execution_count": 83,
   "id": "a98eea44-e3a1-4609-b895-15c7ddc8cb0a",
   "metadata": {},
   "outputs": [
    {
     "data": {
      "text/plain": [
       "(3, 2, 2)"
      ]
     },
     "execution_count": 83,
     "metadata": {},
     "output_type": "execute_result"
    }
   ],
   "source": [
    "tensor.shape"
   ]
  },
  {
   "cell_type": "code",
   "execution_count": 84,
   "id": "23fdceb1-70c9-4a2f-a7b2-c5e668dc6aa7",
   "metadata": {},
   "outputs": [
    {
     "data": {
      "text/plain": [
       "3"
      ]
     },
     "execution_count": 84,
     "metadata": {},
     "output_type": "execute_result"
    }
   ],
   "source": [
    "tensor.ndim"
   ]
  },
  {
   "cell_type": "markdown",
   "id": "d4211d3c-a38f-4acc-88a3-4a53d24ae0c6",
   "metadata": {},
   "source": [
    "## RESHAPE\n",
    "#### reshape is used to change the shape (rows , columns , dimensions) of array without changing data"
   ]
  },
  {
   "cell_type": "code",
   "execution_count": 108,
   "id": "be24edae-933a-468f-bafa-4fde729fe22f",
   "metadata": {},
   "outputs": [],
   "source": [
    "arr = np.array([1,2,3,4,5,6,7,8,9,10,11,12])"
   ]
  },
  {
   "cell_type": "code",
   "execution_count": 109,
   "id": "c8f076b0-7a72-4338-8244-35edd68f55d4",
   "metadata": {},
   "outputs": [
    {
     "data": {
      "text/plain": [
       "[2, 3, 4, 6, 4, 2, 7, 3]"
      ]
     },
     "execution_count": 109,
     "metadata": {},
     "output_type": "execute_result"
    }
   ],
   "source": [
    "array"
   ]
  },
  {
   "cell_type": "code",
   "execution_count": 110,
   "id": "941120b8-617f-409c-beef-8aaa39c55466",
   "metadata": {},
   "outputs": [
    {
     "data": {
      "text/plain": [
       "12"
      ]
     },
     "execution_count": 110,
     "metadata": {},
     "output_type": "execute_result"
    }
   ],
   "source": [
    "arr.size"
   ]
  },
  {
   "cell_type": "code",
   "execution_count": 111,
   "id": "441c8df8-1fe1-4cdd-9a4a-619fb6f7993d",
   "metadata": {},
   "outputs": [
    {
     "data": {
      "text/plain": [
       "(12,)"
      ]
     },
     "execution_count": 111,
     "metadata": {},
     "output_type": "execute_result"
    }
   ],
   "source": [
    "arr.shape"
   ]
  },
  {
   "cell_type": "code",
   "execution_count": 112,
   "id": "11ec5dc8-17f6-4df6-b1e2-636952b39815",
   "metadata": {},
   "outputs": [
    {
     "data": {
      "text/plain": [
       "dtype('int64')"
      ]
     },
     "execution_count": 112,
     "metadata": {},
     "output_type": "execute_result"
    }
   ],
   "source": [
    "arr.dtype"
   ]
  },
  {
   "cell_type": "code",
   "execution_count": 113,
   "id": "4f60c21b-50fc-44ec-b314-eeaff58403b9",
   "metadata": {},
   "outputs": [
    {
     "data": {
      "text/plain": [
       "array([[ 1],\n",
       "       [ 2],\n",
       "       [ 3],\n",
       "       [ 4],\n",
       "       [ 5],\n",
       "       [ 6],\n",
       "       [ 7],\n",
       "       [ 8],\n",
       "       [ 9],\n",
       "       [10],\n",
       "       [11],\n",
       "       [12]])"
      ]
     },
     "execution_count": 113,
     "metadata": {},
     "output_type": "execute_result"
    }
   ],
   "source": [
    "arr.reshape(12,1)"
   ]
  },
  {
   "cell_type": "code",
   "execution_count": 114,
   "id": "85668150-de24-494b-9510-5ce2afb55351",
   "metadata": {},
   "outputs": [
    {
     "data": {
      "text/plain": [
       "array([[ 1,  2,  3],\n",
       "       [ 4,  5,  6],\n",
       "       [ 7,  8,  9],\n",
       "       [10, 11, 12]])"
      ]
     },
     "execution_count": 114,
     "metadata": {},
     "output_type": "execute_result"
    }
   ],
   "source": [
    "arr.reshape(4,3)"
   ]
  },
  {
   "cell_type": "code",
   "execution_count": 115,
   "id": "f35b2814-ed8a-499e-af16-551ac099af19",
   "metadata": {},
   "outputs": [
    {
     "data": {
      "text/plain": [
       "array([[ 1,  2],\n",
       "       [ 3,  4],\n",
       "       [ 5,  6],\n",
       "       [ 7,  8],\n",
       "       [ 9, 10],\n",
       "       [11, 12]])"
      ]
     },
     "execution_count": 115,
     "metadata": {},
     "output_type": "execute_result"
    }
   ],
   "source": [
    "arr.reshape(6,2)"
   ]
  },
  {
   "cell_type": "code",
   "execution_count": 116,
   "id": "b0cc7442-f732-4e0f-a2ac-b5abe57362dc",
   "metadata": {},
   "outputs": [
    {
     "data": {
      "text/plain": [
       "array([[[ 1,  2],\n",
       "        [ 3,  4],\n",
       "        [ 5,  6]],\n",
       "\n",
       "       [[ 7,  8],\n",
       "        [ 9, 10],\n",
       "        [11, 12]]])"
      ]
     },
     "execution_count": 116,
     "metadata": {},
     "output_type": "execute_result"
    }
   ],
   "source": [
    "arr.reshape(2,3,2)"
   ]
  },
  {
   "cell_type": "code",
   "execution_count": 5,
   "id": "c28c315c-456f-45b2-bbb1-7a58c820284a",
   "metadata": {},
   "outputs": [],
   "source": [
    "arr = np.array([x for x in range(1,25)])"
   ]
  },
  {
   "cell_type": "code",
   "execution_count": 118,
   "id": "d2375200-f889-4e63-8bbe-3f7500456b83",
   "metadata": {},
   "outputs": [
    {
     "data": {
      "text/plain": [
       "array([ 1,  2,  3,  4,  5,  6,  7,  8,  9, 10, 11, 12, 13, 14, 15, 16, 17,\n",
       "       18, 19, 20, 21, 22, 23, 24])"
      ]
     },
     "execution_count": 118,
     "metadata": {},
     "output_type": "execute_result"
    }
   ],
   "source": [
    "arr"
   ]
  },
  {
   "cell_type": "code",
   "execution_count": 120,
   "id": "fbc396ef-b0ac-4e4f-b4e8-ba5910984cd4",
   "metadata": {},
   "outputs": [
    {
     "data": {
      "text/plain": [
       "(24,)"
      ]
     },
     "execution_count": 120,
     "metadata": {},
     "output_type": "execute_result"
    }
   ],
   "source": [
    "arr.shape"
   ]
  },
  {
   "cell_type": "code",
   "execution_count": 121,
   "id": "d8553db1-d762-4e54-b5e8-5a08caec8f91",
   "metadata": {},
   "outputs": [
    {
     "data": {
      "text/plain": [
       "24"
      ]
     },
     "execution_count": 121,
     "metadata": {},
     "output_type": "execute_result"
    }
   ],
   "source": [
    "arr.size"
   ]
  },
  {
   "cell_type": "code",
   "execution_count": 122,
   "id": "24ad13cc-6313-4a5d-b190-718160bdd4b7",
   "metadata": {},
   "outputs": [
    {
     "data": {
      "text/plain": [
       "1"
      ]
     },
     "execution_count": 122,
     "metadata": {},
     "output_type": "execute_result"
    }
   ],
   "source": [
    "arr.ndim"
   ]
  },
  {
   "cell_type": "code",
   "execution_count": 123,
   "id": "ee1f1456-ef39-4f19-ad88-bf8886d09fd4",
   "metadata": {},
   "outputs": [
    {
     "data": {
      "text/plain": [
       "array([[ 1,  2,  3,  4,  5,  6],\n",
       "       [ 7,  8,  9, 10, 11, 12],\n",
       "       [13, 14, 15, 16, 17, 18],\n",
       "       [19, 20, 21, 22, 23, 24]])"
      ]
     },
     "execution_count": 123,
     "metadata": {},
     "output_type": "execute_result"
    }
   ],
   "source": [
    "arr.reshape(4,-1)   # -1 apne app baki ki shape lga leta h"
   ]
  },
  {
   "cell_type": "code",
   "execution_count": 124,
   "id": "78abe6a5-3b22-43cb-9118-75834095f73a",
   "metadata": {},
   "outputs": [
    {
     "data": {
      "text/plain": [
       "array([[ 1,  2,  3,  4],\n",
       "       [ 5,  6,  7,  8],\n",
       "       [ 9, 10, 11, 12],\n",
       "       [13, 14, 15, 16],\n",
       "       [17, 18, 19, 20],\n",
       "       [21, 22, 23, 24]])"
      ]
     },
     "execution_count": 124,
     "metadata": {},
     "output_type": "execute_result"
    }
   ],
   "source": [
    "arr.reshape(6,4)"
   ]
  },
  {
   "cell_type": "code",
   "execution_count": 6,
   "id": "56ff4f93-0c94-4c9e-93c6-b43900b7b6bc",
   "metadata": {},
   "outputs": [
    {
     "data": {
      "text/plain": [
       "array([[[[ 1,  2],\n",
       "         [ 3,  4]],\n",
       "\n",
       "        [[ 5,  6],\n",
       "         [ 7,  8]],\n",
       "\n",
       "        [[ 9, 10],\n",
       "         [11, 12]]],\n",
       "\n",
       "\n",
       "       [[[13, 14],\n",
       "         [15, 16]],\n",
       "\n",
       "        [[17, 18],\n",
       "         [19, 20]],\n",
       "\n",
       "        [[21, 22],\n",
       "         [23, 24]]]])"
      ]
     },
     "execution_count": 6,
     "metadata": {},
     "output_type": "execute_result"
    }
   ],
   "source": [
    "arr.reshape(2,3,2,2)"
   ]
  },
  {
   "cell_type": "code",
   "execution_count": 7,
   "id": "4275f4b9-4139-4a05-a163-1b6c256a2161",
   "metadata": {},
   "outputs": [
    {
     "data": {
      "text/plain": [
       "array([[ 1,  2,  3],\n",
       "       [ 4,  5,  6],\n",
       "       [ 7,  8,  9],\n",
       "       [10, 11, 12],\n",
       "       [13, 14, 15],\n",
       "       [16, 17, 18],\n",
       "       [19, 20, 21],\n",
       "       [22, 23, 24]])"
      ]
     },
     "execution_count": 7,
     "metadata": {},
     "output_type": "execute_result"
    }
   ],
   "source": [
    "arr.reshape(8,3)"
   ]
  },
  {
   "cell_type": "code",
   "execution_count": 8,
   "id": "68b91cb2-59df-4935-87c5-0162c7e7c0a1",
   "metadata": {},
   "outputs": [
    {
     "data": {
      "text/plain": [
       "array([[ 1,  2,  3,  4,  5,  6,  7,  8],\n",
       "       [ 9, 10, 11, 12, 13, 14, 15, 16],\n",
       "       [17, 18, 19, 20, 21, 22, 23, 24]])"
      ]
     },
     "execution_count": 8,
     "metadata": {},
     "output_type": "execute_result"
    }
   ],
   "source": [
    "arr.reshape(3,8)"
   ]
  },
  {
   "cell_type": "markdown",
   "id": "83aee715-2139-4e42-b33a-c9aafdaa658e",
   "metadata": {},
   "source": [
    " ## basic 02"
   ]
  },
  {
   "cell_type": "markdown",
   "id": "de6f6fe2-9a25-465c-aa4c-015a704e8caf",
   "metadata": {},
   "source": [
    "##### making 1D"
   ]
  },
  {
   "cell_type": "code",
   "execution_count": 3,
   "id": "20ba142c-a642-48a0-91f2-9134eff575f2",
   "metadata": {},
   "outputs": [],
   "source": [
    "import numpy as np"
   ]
  },
  {
   "cell_type": "code",
   "execution_count": 11,
   "id": "e5583b34-128c-4394-a4e9-336424ccd814",
   "metadata": {},
   "outputs": [],
   "source": [
    "array = np.array([1,2,3,4])"
   ]
  },
  {
   "cell_type": "code",
   "execution_count": 37,
   "id": "069c3088-b2fd-463c-8a95-e10b7b50a6d3",
   "metadata": {},
   "outputs": [
    {
     "data": {
      "text/plain": [
       "array([[[1, 2, 3]],\n",
       "\n",
       "       [[1, 2, 3]],\n",
       "\n",
       "       [[1, 2, 3]],\n",
       "\n",
       "       [[1, 2, 3]]])"
      ]
     },
     "execution_count": 37,
     "metadata": {},
     "output_type": "execute_result"
    }
   ],
   "source": [
    "array"
   ]
  },
  {
   "cell_type": "code",
   "execution_count": 12,
   "id": "2f1e1c5a-7ca0-4b89-bf9b-2831582c7dd7",
   "metadata": {},
   "outputs": [
    {
     "data": {
      "text/plain": [
       "(4,)"
      ]
     },
     "execution_count": 12,
     "metadata": {},
     "output_type": "execute_result"
    }
   ],
   "source": [
    "array.shape"
   ]
  },
  {
   "cell_type": "code",
   "execution_count": 13,
   "id": "ddf5cd85-ddd9-4c52-8355-d1b6ec0e8a0d",
   "metadata": {},
   "outputs": [
    {
     "data": {
      "text/plain": [
       "1"
      ]
     },
     "execution_count": 13,
     "metadata": {},
     "output_type": "execute_result"
    }
   ],
   "source": [
    "array.ndim"
   ]
  },
  {
   "cell_type": "markdown",
   "id": "9e8a5890-0382-4e1a-97ae-a932a6afd9be",
   "metadata": {},
   "source": [
    "##### making 2D"
   ]
  },
  {
   "cell_type": "code",
   "execution_count": 15,
   "id": "150d7e36-7738-4bc5-b3f1-cbb85eb2244a",
   "metadata": {},
   "outputs": [],
   "source": [
    "array =np.array ([[1,2,3], [1,2,3] , [1,2,3]])"
   ]
  },
  {
   "cell_type": "code",
   "execution_count": 38,
   "id": "f5a908f6-c2f1-4e7e-9cef-bddea57408ab",
   "metadata": {},
   "outputs": [
    {
     "data": {
      "text/plain": [
       "array([[[1, 2, 3]],\n",
       "\n",
       "       [[1, 2, 3]],\n",
       "\n",
       "       [[1, 2, 3]],\n",
       "\n",
       "       [[1, 2, 3]]])"
      ]
     },
     "execution_count": 38,
     "metadata": {},
     "output_type": "execute_result"
    }
   ],
   "source": [
    "array"
   ]
  },
  {
   "cell_type": "code",
   "execution_count": 16,
   "id": "d95a0779-ef0e-49f0-8485-997a483a9d46",
   "metadata": {},
   "outputs": [
    {
     "data": {
      "text/plain": [
       "(3, 3)"
      ]
     },
     "execution_count": 16,
     "metadata": {},
     "output_type": "execute_result"
    }
   ],
   "source": [
    "array.shape"
   ]
  },
  {
   "cell_type": "code",
   "execution_count": 17,
   "id": "911ae3e1-6ce8-492e-9bfd-e0f821c1f9b4",
   "metadata": {},
   "outputs": [
    {
     "data": {
      "text/plain": [
       "2"
      ]
     },
     "execution_count": 17,
     "metadata": {},
     "output_type": "execute_result"
    }
   ],
   "source": [
    "array.ndim"
   ]
  },
  {
   "cell_type": "code",
   "execution_count": 18,
   "id": "88e18b93-678d-4291-88b6-1e4bd68ad83b",
   "metadata": {},
   "outputs": [],
   "source": [
    "array = np.array([[1,2,3], [1,2,3]])"
   ]
  },
  {
   "cell_type": "code",
   "execution_count": 39,
   "id": "ed1a0390-fa76-4695-8059-d0f1b612a900",
   "metadata": {},
   "outputs": [
    {
     "data": {
      "text/plain": [
       "array([[[1, 2, 3]],\n",
       "\n",
       "       [[1, 2, 3]],\n",
       "\n",
       "       [[1, 2, 3]],\n",
       "\n",
       "       [[1, 2, 3]]])"
      ]
     },
     "execution_count": 39,
     "metadata": {},
     "output_type": "execute_result"
    }
   ],
   "source": [
    "array"
   ]
  },
  {
   "cell_type": "code",
   "execution_count": 19,
   "id": "64b63863-2c53-4778-9665-f3059ed67123",
   "metadata": {},
   "outputs": [
    {
     "data": {
      "text/plain": [
       "(2, 3)"
      ]
     },
     "execution_count": 19,
     "metadata": {},
     "output_type": "execute_result"
    }
   ],
   "source": [
    "array.shape"
   ]
  },
  {
   "cell_type": "code",
   "execution_count": 20,
   "id": "e70450fe-c09f-4a3a-9633-e6eaf01d14e5",
   "metadata": {},
   "outputs": [
    {
     "data": {
      "text/plain": [
       "2"
      ]
     },
     "execution_count": 20,
     "metadata": {},
     "output_type": "execute_result"
    }
   ],
   "source": [
    "array.ndim"
   ]
  },
  {
   "cell_type": "markdown",
   "id": "ad68677a-1f7c-40e1-b012-a695f4e8ad15",
   "metadata": {},
   "source": [
    "##### making 3D"
   ]
  },
  {
   "cell_type": "code",
   "execution_count": 23,
   "id": "f14828f9-2f05-430d-80a9-60d700b7b492",
   "metadata": {},
   "outputs": [],
   "source": [
    "array = np.array ([[[1,2,3] , [1,2,3]] , [[1,2,3] , [1,2,3]]])"
   ]
  },
  {
   "cell_type": "code",
   "execution_count": 24,
   "id": "73c3eecd-036c-409c-aec3-c5be4105c826",
   "metadata": {},
   "outputs": [
    {
     "data": {
      "text/plain": [
       "(2, 2, 3)"
      ]
     },
     "execution_count": 24,
     "metadata": {},
     "output_type": "execute_result"
    }
   ],
   "source": [
    "array.shape"
   ]
  },
  {
   "cell_type": "code",
   "execution_count": 25,
   "id": "745f3fe2-88ff-4780-a078-c89f494c46cd",
   "metadata": {},
   "outputs": [
    {
     "data": {
      "text/plain": [
       "array([[[1, 2, 3],\n",
       "        [1, 2, 3]],\n",
       "\n",
       "       [[1, 2, 3],\n",
       "        [1, 2, 3]]])"
      ]
     },
     "execution_count": 25,
     "metadata": {},
     "output_type": "execute_result"
    }
   ],
   "source": [
    "array"
   ]
  },
  {
   "cell_type": "code",
   "execution_count": 26,
   "id": "51350669-7e18-4c28-bf4a-53da2db5468c",
   "metadata": {},
   "outputs": [
    {
     "data": {
      "text/plain": [
       "3"
      ]
     },
     "execution_count": 26,
     "metadata": {},
     "output_type": "execute_result"
    }
   ],
   "source": [
    "array.ndim"
   ]
  },
  {
   "cell_type": "markdown",
   "id": "c7151aab-7e67-4486-9eef-c70dfcdd73b1",
   "metadata": {},
   "source": [
    " ##### making shape 4,1,3  4 block/layers , 1 row , 3 is column"
   ]
  },
  {
   "cell_type": "code",
   "execution_count": 34,
   "id": "d566f721-2379-43ea-b58d-e6e1aab90983",
   "metadata": {},
   "outputs": [],
   "source": [
    "array = np.array([[[1,2,3]],[[1,2,3]],[[1,2,3]],[[1,2,3]]])"
   ]
  },
  {
   "cell_type": "code",
   "execution_count": 35,
   "id": "bf68661b-72c2-4290-9eab-f20c904f7723",
   "metadata": {},
   "outputs": [
    {
     "data": {
      "text/plain": [
       "array([[[1, 2, 3]],\n",
       "\n",
       "       [[1, 2, 3]],\n",
       "\n",
       "       [[1, 2, 3]],\n",
       "\n",
       "       [[1, 2, 3]]])"
      ]
     },
     "execution_count": 35,
     "metadata": {},
     "output_type": "execute_result"
    }
   ],
   "source": [
    "array"
   ]
  },
  {
   "cell_type": "code",
   "execution_count": 36,
   "id": "dce41739-2b7a-45e2-97f1-3d7e436c4ce9",
   "metadata": {},
   "outputs": [
    {
     "data": {
      "text/plain": [
       "(4, 1, 3)"
      ]
     },
     "execution_count": 36,
     "metadata": {},
     "output_type": "execute_result"
    }
   ],
   "source": [
    "array.shape"
   ]
  },
  {
   "cell_type": "code",
   "execution_count": null,
   "id": "765b7fff-6e60-4b51-b6d0-d2a134608381",
   "metadata": {},
   "outputs": [],
   "source": [
    "  "
   ]
  },
  {
   "cell_type": "code",
   "execution_count": null,
   "id": "026259c9-b32f-4a56-817b-8709cc6249f7",
   "metadata": {},
   "outputs": [],
   "source": []
  },
  {
   "cell_type": "code",
   "execution_count": null,
   "id": "ca4b4ae3-b8e8-47f4-8c6c-0926396e716e",
   "metadata": {},
   "outputs": [],
   "source": []
  }
 ],
 "metadata": {
  "kernelspec": {
   "display_name": "Python [conda env:base] *",
   "language": "python",
   "name": "conda-base-py"
  },
  "language_info": {
   "codemirror_mode": {
    "name": "ipython",
    "version": 3
   },
   "file_extension": ".py",
   "mimetype": "text/x-python",
   "name": "python",
   "nbconvert_exporter": "python",
   "pygments_lexer": "ipython3",
   "version": "3.13.5"
  }
 },
 "nbformat": 4,
 "nbformat_minor": 5
}
