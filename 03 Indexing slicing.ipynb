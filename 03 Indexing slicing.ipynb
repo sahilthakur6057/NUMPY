{
 "cells": [
  {
   "cell_type": "code",
   "execution_count": 1,
   "id": "b910ca24-b7ae-4891-a4dd-2376a0c12579",
   "metadata": {},
   "outputs": [],
   "source": [
    "import numpy as np"
   ]
  },
  {
   "cell_type": "code",
   "execution_count": 6,
   "id": "345409fa-2c9e-4ca6-85c7-1730feb198ef",
   "metadata": {},
   "outputs": [],
   "source": [
    "##### seed function helps to more than 1 person to put same data"
   ]
  },
  {
   "cell_type": "code",
   "execution_count": 2,
   "id": "01d87b00-f1f6-4b40-9184-4b089b7bae8d",
   "metadata": {},
   "outputs": [],
   "source": [
    "np.random.seed(50)"
   ]
  },
  {
   "cell_type": "code",
   "execution_count": 4,
   "id": "731a4dc0-3ede-4b4a-bd55-71f5178d5b41",
   "metadata": {},
   "outputs": [],
   "source": [
    "arr = np.random.randint(1,20,(3,3))"
   ]
  },
  {
   "cell_type": "code",
   "execution_count": 5,
   "id": "01f38f87-d23a-4aa0-b051-02440e597702",
   "metadata": {},
   "outputs": [
    {
     "data": {
      "text/plain": [
       "array([[14,  6,  3],\n",
       "       [ 8, 16,  5],\n",
       "       [15,  4,  7]], dtype=int32)"
      ]
     },
     "execution_count": 5,
     "metadata": {},
     "output_type": "execute_result"
    }
   ],
   "source": [
    "arr"
   ]
  },
  {
   "cell_type": "markdown",
   "id": "d0b5afd4-ef97-4c7b-88af-0eeb13882ad9",
   "metadata": {},
   "source": [
    "#### INDEXING"
   ]
  },
  {
   "cell_type": "code",
   "execution_count": 7,
   "id": "db413ed6-2617-4b75-8297-00ef937fc7dc",
   "metadata": {},
   "outputs": [
    {
     "data": {
      "text/plain": [
       "array([15,  4,  7], dtype=int32)"
      ]
     },
     "execution_count": 7,
     "metadata": {},
     "output_type": "execute_result"
    }
   ],
   "source": [
    "arr[2]"
   ]
  },
  {
   "cell_type": "code",
   "execution_count": 10,
   "id": "d4693291-5d30-4a73-83a2-87e197e94896",
   "metadata": {},
   "outputs": [
    {
     "data": {
      "text/plain": [
       "np.int32(15)"
      ]
     },
     "execution_count": 10,
     "metadata": {},
     "output_type": "execute_result"
    }
   ],
   "source": [
    "arr[2][0]"
   ]
  },
  {
   "cell_type": "code",
   "execution_count": 12,
   "id": "bf1f56f2-1fb1-4a40-93f1-29a2c1e65e63",
   "metadata": {},
   "outputs": [
    {
     "data": {
      "text/plain": [
       "np.int32(15)"
      ]
     },
     "execution_count": 12,
     "metadata": {},
     "output_type": "execute_result"
    }
   ],
   "source": [
    "arr[2,0]"
   ]
  },
  {
   "cell_type": "code",
   "execution_count": 13,
   "id": "de2a6a57-9888-44e1-af77-bc6d02e44391",
   "metadata": {},
   "outputs": [],
   "source": [
    "arr = np.random.randint(1,20,(3,5,4))"
   ]
  },
  {
   "cell_type": "code",
   "execution_count": 14,
   "id": "9a1c94f8-87c4-4bfd-8402-62670bea2970",
   "metadata": {},
   "outputs": [
    {
     "data": {
      "text/plain": [
       "array([[[12, 18, 11, 10],\n",
       "        [ 1,  7,  3, 16],\n",
       "        [10,  4,  3, 13],\n",
       "        [ 1,  4,  3, 11],\n",
       "        [17, 15,  1,  1]],\n",
       "\n",
       "       [[12,  8, 15, 14],\n",
       "        [ 8,  5,  5,  1],\n",
       "        [12,  1, 14, 14],\n",
       "        [ 2, 10, 12,  6],\n",
       "        [ 1, 16,  6,  7]],\n",
       "\n",
       "       [[ 2,  5,  5, 13],\n",
       "        [15,  5, 12,  1],\n",
       "        [ 6,  9, 13, 12],\n",
       "        [ 4,  7, 19,  9],\n",
       "        [16,  6, 16,  5]]], dtype=int32)"
      ]
     },
     "execution_count": 14,
     "metadata": {},
     "output_type": "execute_result"
    }
   ],
   "source": [
    "arr"
   ]
  },
  {
   "cell_type": "code",
   "execution_count": 15,
   "id": "9f064185-9be9-4556-a924-0de10323e3e0",
   "metadata": {},
   "outputs": [
    {
     "data": {
      "text/plain": [
       "array([[12,  8, 15, 14],\n",
       "       [ 8,  5,  5,  1],\n",
       "       [12,  1, 14, 14],\n",
       "       [ 2, 10, 12,  6],\n",
       "       [ 1, 16,  6,  7]], dtype=int32)"
      ]
     },
     "execution_count": 15,
     "metadata": {},
     "output_type": "execute_result"
    }
   ],
   "source": [
    "arr[1]"
   ]
  },
  {
   "cell_type": "code",
   "execution_count": 16,
   "id": "da9a1c51-18a2-4fbd-8936-0d770a5f35ee",
   "metadata": {},
   "outputs": [
    {
     "data": {
      "text/plain": [
       "array([[12, 18, 11, 10],\n",
       "       [ 1,  7,  3, 16],\n",
       "       [10,  4,  3, 13],\n",
       "       [ 1,  4,  3, 11],\n",
       "       [17, 15,  1,  1]], dtype=int32)"
      ]
     },
     "execution_count": 16,
     "metadata": {},
     "output_type": "execute_result"
    }
   ],
   "source": [
    "arr[0]"
   ]
  },
  {
   "cell_type": "code",
   "execution_count": 17,
   "id": "0f3e8bd3-aa9d-4aac-a505-1b4e2d7a1a09",
   "metadata": {},
   "outputs": [
    {
     "data": {
      "text/plain": [
       "array([ 2, 10, 12,  6], dtype=int32)"
      ]
     },
     "execution_count": 17,
     "metadata": {},
     "output_type": "execute_result"
    }
   ],
   "source": [
    "arr[1,3]"
   ]
  },
  {
   "cell_type": "code",
   "execution_count": 18,
   "id": "5b5c40d6-3791-408b-acb5-18bd0ec95ad1",
   "metadata": {},
   "outputs": [
    {
     "data": {
      "text/plain": [
       "np.int32(6)"
      ]
     },
     "execution_count": 18,
     "metadata": {},
     "output_type": "execute_result"
    }
   ],
   "source": [
    "arr[1,3,3]"
   ]
  },
  {
   "cell_type": "code",
   "execution_count": null,
   "id": "b06a26bc-3453-44f5-b9cc-a21ec685f646",
   "metadata": {},
   "outputs": [],
   "source": []
  },
  {
   "cell_type": "markdown",
   "id": "9a5d6857-dce2-47a2-bfb8-428b8be65d54",
   "metadata": {},
   "source": [
    "#### SLICING"
   ]
  },
  {
   "cell_type": "code",
   "execution_count": 21,
   "id": "1750dcc4-91f1-4d49-b63f-06088f9a72d9",
   "metadata": {},
   "outputs": [],
   "source": [
    "arr = np.random.randint(1,20,(5,5))"
   ]
  },
  {
   "cell_type": "code",
   "execution_count": 20,
   "id": "a26f653a-2198-4f28-8fa4-93fa404fe3de",
   "metadata": {},
   "outputs": [
    {
     "data": {
      "text/plain": [
       "array([[ 5, 19, 16, 11, 18],\n",
       "       [ 9, 15, 12,  8, 10],\n",
       "       [ 2,  9,  4,  4, 11],\n",
       "       [ 4,  7, 16,  1, 19],\n",
       "       [12,  2, 18, 15, 15]], dtype=int32)"
      ]
     },
     "execution_count": 20,
     "metadata": {},
     "output_type": "execute_result"
    }
   ],
   "source": [
    "arr"
   ]
  },
  {
   "cell_type": "code",
   "execution_count": 24,
   "id": "dde0a275-c3f7-4d84-a679-3bacc481a41f",
   "metadata": {},
   "outputs": [
    {
     "data": {
      "text/plain": [
       "array([[12,  2],\n",
       "       [15,  3]], dtype=int32)"
      ]
     },
     "execution_count": 24,
     "metadata": {},
     "output_type": "execute_result"
    }
   ],
   "source": [
    "arr[2:4, 1:3]"
   ]
  },
  {
   "cell_type": "code",
   "execution_count": 25,
   "id": "b0bb61a0-dcf9-445b-9d8b-bc8db8d2f7c8",
   "metadata": {},
   "outputs": [],
   "source": [
    "arr = np.random.randint(1,20,(3,5,4))"
   ]
  },
  {
   "cell_type": "code",
   "execution_count": 26,
   "id": "269c1490-a761-40c8-a6b7-b2db76eb5690",
   "metadata": {},
   "outputs": [
    {
     "data": {
      "text/plain": [
       "array([[[15,  5, 12, 17],\n",
       "        [18, 15, 16,  4],\n",
       "        [ 5, 10,  5,  8],\n",
       "        [18, 14, 10, 15],\n",
       "        [14, 16,  4,  7]],\n",
       "\n",
       "       [[13, 11, 15,  1],\n",
       "        [14, 14,  1,  9],\n",
       "        [16, 14,  1, 11],\n",
       "        [15, 13,  5,  9],\n",
       "        [11, 11,  1,  8]],\n",
       "\n",
       "       [[ 5, 12, 14,  1],\n",
       "        [ 9, 16,  7,  4],\n",
       "        [ 6, 12, 19,  2],\n",
       "        [16,  4,  4,  1],\n",
       "        [15, 11, 13,  6]]], dtype=int32)"
      ]
     },
     "execution_count": 26,
     "metadata": {},
     "output_type": "execute_result"
    }
   ],
   "source": [
    "arr"
   ]
  },
  {
   "cell_type": "code",
   "execution_count": 27,
   "id": "cd00b7a2-2302-4fcd-91bc-fa79f1ae2bb6",
   "metadata": {},
   "outputs": [
    {
     "data": {
      "text/plain": [
       "array([[ 5, 12, 14,  1],\n",
       "       [ 9, 16,  7,  4],\n",
       "       [ 6, 12, 19,  2],\n",
       "       [16,  4,  4,  1],\n",
       "       [15, 11, 13,  6]], dtype=int32)"
      ]
     },
     "execution_count": 27,
     "metadata": {},
     "output_type": "execute_result"
    }
   ],
   "source": [
    "arr[2]"
   ]
  },
  {
   "cell_type": "code",
   "execution_count": 28,
   "id": "0d3be6c3-5211-4f5f-9dca-41e71c6db9ac",
   "metadata": {},
   "outputs": [
    {
     "data": {
      "text/plain": [
       "array([[ 6, 12, 19,  2],\n",
       "       [16,  4,  4,  1],\n",
       "       [15, 11, 13,  6]], dtype=int32)"
      ]
     },
     "execution_count": 28,
     "metadata": {},
     "output_type": "execute_result"
    }
   ],
   "source": [
    "arr[2,2:]"
   ]
  },
  {
   "cell_type": "code",
   "execution_count": 31,
   "id": "d69468ec-1cf2-4bff-8455-e1e77d43d458",
   "metadata": {},
   "outputs": [
    {
     "data": {
      "text/plain": [
       "array([[ 6, 12],\n",
       "       [16,  4],\n",
       "       [15, 11]], dtype=int32)"
      ]
     },
     "execution_count": 31,
     "metadata": {},
     "output_type": "execute_result"
    }
   ],
   "source": [
    "arr[2,2:,0:2]"
   ]
  },
  {
   "cell_type": "code",
   "execution_count": 33,
   "id": "58f6321e-07eb-4f83-ba9f-9f994c841565",
   "metadata": {},
   "outputs": [
    {
     "data": {
      "text/plain": [
       "array([[[15,  5, 12, 17],\n",
       "        [18, 15, 16,  4],\n",
       "        [ 5, 10,  5,  8],\n",
       "        [18, 14, 10, 15],\n",
       "        [14, 16,  4,  7]],\n",
       "\n",
       "       [[13, 11, 15,  1],\n",
       "        [14, 14,  1,  9],\n",
       "        [16, 14,  1, 11],\n",
       "        [15, 13,  5,  9],\n",
       "        [11, 11,  1,  8]],\n",
       "\n",
       "       [[ 5, 12, 14,  1],\n",
       "        [ 9, 16,  7,  4],\n",
       "        [ 6, 12, 19,  2],\n",
       "        [16,  4,  4,  1],\n",
       "        [15, 11, 13,  6]]], dtype=int32)"
      ]
     },
     "execution_count": 33,
     "metadata": {},
     "output_type": "execute_result"
    }
   ],
   "source": [
    "arr"
   ]
  },
  {
   "cell_type": "code",
   "execution_count": 34,
   "id": "3649b077-7810-4d9b-af20-1024ac6d87d8",
   "metadata": {},
   "outputs": [
    {
     "data": {
      "text/plain": [
       "np.int32(13)"
      ]
     },
     "execution_count": 34,
     "metadata": {},
     "output_type": "execute_result"
    }
   ],
   "source": [
    "arr[2,-1,-2]  ## for getting 13 no. in last row and last column"
   ]
  },
  {
   "cell_type": "code",
   "execution_count": 35,
   "id": "7b65a2d2-4085-4b8c-8f29-9f42101ef6db",
   "metadata": {},
   "outputs": [
    {
     "data": {
      "text/plain": [
       "array([[[15,  5, 12, 17],\n",
       "        [18, 15, 16,  4],\n",
       "        [ 5, 10,  5,  8],\n",
       "        [18, 14, 10, 15],\n",
       "        [14, 16,  4,  7]],\n",
       "\n",
       "       [[13, 11, 15,  1],\n",
       "        [14, 14,  1,  9],\n",
       "        [16, 14,  1, 11],\n",
       "        [15, 13,  5,  9],\n",
       "        [11, 11,  1,  8]],\n",
       "\n",
       "       [[ 5, 12, 14,  1],\n",
       "        [ 9, 16,  7,  4],\n",
       "        [ 6, 12, 19,  2],\n",
       "        [16,  4,  4,  1],\n",
       "        [15, 11, 13,  6]]], dtype=int32)"
      ]
     },
     "execution_count": 35,
     "metadata": {},
     "output_type": "execute_result"
    }
   ],
   "source": [
    "arr"
   ]
  },
  {
   "cell_type": "code",
   "execution_count": 36,
   "id": "2756e4ab-c9ae-4fed-9489-cc7ef117ec88",
   "metadata": {},
   "outputs": [
    {
     "data": {
      "text/plain": [
       "np.int32(5)"
      ]
     },
     "execution_count": 36,
     "metadata": {},
     "output_type": "execute_result"
    }
   ],
   "source": [
    "arr[1,3,-2]"
   ]
  },
  {
   "cell_type": "code",
   "execution_count": null,
   "id": "67b79b0c-4848-471a-b6d2-edc4d219344a",
   "metadata": {},
   "outputs": [],
   "source": []
  },
  {
   "cell_type": "code",
   "execution_count": 37,
   "id": "c92ff030-b67c-41e0-adef-b35f22c35280",
   "metadata": {},
   "outputs": [],
   "source": [
    "arr = np.random.randint(1,25,(5,6,3))"
   ]
  },
  {
   "cell_type": "code",
   "execution_count": 38,
   "id": "abf64ffe-a15a-424d-b6ab-45537cff8ccb",
   "metadata": {},
   "outputs": [
    {
     "data": {
      "text/plain": [
       "array([[[13,  1, 24],\n",
       "        [22, 22, 12],\n",
       "        [15, 20, 14],\n",
       "        [17,  2, 20],\n",
       "        [23, 16, 19],\n",
       "        [12,  1,  5]],\n",
       "\n",
       "       [[19, 14, 10],\n",
       "        [16, 18, 19],\n",
       "        [18, 23,  3],\n",
       "        [ 6,  2,  2],\n",
       "        [11, 19, 23],\n",
       "        [ 9, 15, 18]],\n",
       "\n",
       "       [[16,  2, 24],\n",
       "        [10,  8, 23],\n",
       "        [22, 10, 21],\n",
       "        [20, 20, 24],\n",
       "        [15,  5,  6],\n",
       "        [ 1,  8,  8]],\n",
       "\n",
       "       [[24, 17, 18],\n",
       "        [ 3, 11, 10],\n",
       "        [ 7, 10,  6],\n",
       "        [14, 21, 19],\n",
       "        [13, 20,  6],\n",
       "        [11,  6, 19]],\n",
       "\n",
       "       [[16, 14, 22],\n",
       "        [ 8,  7,  1],\n",
       "        [12, 17,  8],\n",
       "        [11, 15,  8],\n",
       "        [20,  4, 19],\n",
       "        [11, 23, 14]]], dtype=int32)"
      ]
     },
     "execution_count": 38,
     "metadata": {},
     "output_type": "execute_result"
    }
   ],
   "source": [
    "arr"
   ]
  },
  {
   "cell_type": "code",
   "execution_count": 39,
   "id": "92f1dcf2-49ff-4a6a-80a6-42fabf6ebb4e",
   "metadata": {},
   "outputs": [
    {
     "data": {
      "text/plain": [
       "np.int32(24)"
      ]
     },
     "execution_count": 39,
     "metadata": {},
     "output_type": "execute_result"
    }
   ],
   "source": [
    "arr[2,3,-1]"
   ]
  },
  {
   "cell_type": "code",
   "execution_count": 40,
   "id": "828740da-85bb-471f-bd2e-e6d0cb5fa10e",
   "metadata": {},
   "outputs": [
    {
     "data": {
      "text/plain": [
       "array([[[13,  1, 24],\n",
       "        [22, 22, 12],\n",
       "        [15, 20, 14],\n",
       "        [17,  2, 20],\n",
       "        [23, 16, 19],\n",
       "        [12,  1,  5]],\n",
       "\n",
       "       [[19, 14, 10],\n",
       "        [16, 18, 19],\n",
       "        [18, 23,  3],\n",
       "        [ 6,  2,  2],\n",
       "        [11, 19, 23],\n",
       "        [ 9, 15, 18]],\n",
       "\n",
       "       [[16,  2, 24],\n",
       "        [10,  8, 23],\n",
       "        [22, 10, 21],\n",
       "        [20, 20, 24],\n",
       "        [15,  5,  6],\n",
       "        [ 1,  8,  8]],\n",
       "\n",
       "       [[24, 17, 18],\n",
       "        [ 3, 11, 10],\n",
       "        [ 7, 10,  6],\n",
       "        [14, 21, 19],\n",
       "        [13, 20,  6],\n",
       "        [11,  6, 19]],\n",
       "\n",
       "       [[16, 14, 22],\n",
       "        [ 8,  7,  1],\n",
       "        [12, 17,  8],\n",
       "        [11, 15,  8],\n",
       "        [20,  4, 19],\n",
       "        [11, 23, 14]]], dtype=int32)"
      ]
     },
     "execution_count": 40,
     "metadata": {},
     "output_type": "execute_result"
    }
   ],
   "source": [
    "arr"
   ]
  },
  {
   "cell_type": "code",
   "execution_count": 41,
   "id": "a18a573f-f2d2-428b-b1f9-764cef632fd5",
   "metadata": {},
   "outputs": [
    {
     "data": {
      "text/plain": [
       "array([[24, 17, 18],\n",
       "       [ 3, 11, 10],\n",
       "       [ 7, 10,  6],\n",
       "       [14, 21, 19],\n",
       "       [13, 20,  6],\n",
       "       [11,  6, 19]], dtype=int32)"
      ]
     },
     "execution_count": 41,
     "metadata": {},
     "output_type": "execute_result"
    }
   ],
   "source": [
    "arr[3]"
   ]
  },
  {
   "cell_type": "code",
   "execution_count": 43,
   "id": "eccabe1c-56d3-45b5-b6a8-be6ec270b3ab",
   "metadata": {},
   "outputs": [
    {
     "data": {
      "text/plain": [
       "array([14, 21, 19], dtype=int32)"
      ]
     },
     "execution_count": 43,
     "metadata": {},
     "output_type": "execute_result"
    }
   ],
   "source": [
    "arr[3,3]"
   ]
  },
  {
   "cell_type": "code",
   "execution_count": 44,
   "id": "edba1eb4-ead1-4dff-8f17-3e1f4580434c",
   "metadata": {},
   "outputs": [
    {
     "data": {
      "text/plain": [
       "np.int32(21)"
      ]
     },
     "execution_count": 44,
     "metadata": {},
     "output_type": "execute_result"
    }
   ],
   "source": [
    "arr[3,3,1]"
   ]
  },
  {
   "cell_type": "code",
   "execution_count": 45,
   "id": "647c55cf-3dc7-4c9f-b9ef-57de142b6855",
   "metadata": {},
   "outputs": [
    {
     "data": {
      "text/plain": [
       "array([[[13,  1, 24],\n",
       "        [22, 22, 12],\n",
       "        [15, 20, 14],\n",
       "        [17,  2, 20],\n",
       "        [23, 16, 19],\n",
       "        [12,  1,  5]],\n",
       "\n",
       "       [[19, 14, 10],\n",
       "        [16, 18, 19],\n",
       "        [18, 23,  3],\n",
       "        [ 6,  2,  2],\n",
       "        [11, 19, 23],\n",
       "        [ 9, 15, 18]],\n",
       "\n",
       "       [[16,  2, 24],\n",
       "        [10,  8, 23],\n",
       "        [22, 10, 21],\n",
       "        [20, 20, 24],\n",
       "        [15,  5,  6],\n",
       "        [ 1,  8,  8]],\n",
       "\n",
       "       [[24, 17, 18],\n",
       "        [ 3, 11, 10],\n",
       "        [ 7, 10,  6],\n",
       "        [14, 21, 19],\n",
       "        [13, 20,  6],\n",
       "        [11,  6, 19]],\n",
       "\n",
       "       [[16, 14, 22],\n",
       "        [ 8,  7,  1],\n",
       "        [12, 17,  8],\n",
       "        [11, 15,  8],\n",
       "        [20,  4, 19],\n",
       "        [11, 23, 14]]], dtype=int32)"
      ]
     },
     "execution_count": 45,
     "metadata": {},
     "output_type": "execute_result"
    }
   ],
   "source": [
    "arr"
   ]
  },
  {
   "cell_type": "code",
   "execution_count": 46,
   "id": "7fa34312-c35b-4359-8a77-140bec25b89f",
   "metadata": {},
   "outputs": [
    {
     "data": {
      "text/plain": [
       "array([[24, 17, 18],\n",
       "       [ 3, 11, 10],\n",
       "       [ 7, 10,  6],\n",
       "       [14, 21, 19],\n",
       "       [13, 20,  6],\n",
       "       [11,  6, 19]], dtype=int32)"
      ]
     },
     "execution_count": 46,
     "metadata": {},
     "output_type": "execute_result"
    }
   ],
   "source": [
    "arr[3]"
   ]
  },
  {
   "cell_type": "code",
   "execution_count": 47,
   "id": "c884a653-35c5-40fb-b07f-b2586c025fdd",
   "metadata": {},
   "outputs": [
    {
     "data": {
      "text/plain": [
       "array([ 7, 10,  6], dtype=int32)"
      ]
     },
     "execution_count": 47,
     "metadata": {},
     "output_type": "execute_result"
    }
   ],
   "source": [
    "arr[3,2]"
   ]
  },
  {
   "cell_type": "code",
   "execution_count": 49,
   "id": "69121693-c0db-419e-b672-c002389f2f6f",
   "metadata": {},
   "outputs": [
    {
     "data": {
      "text/plain": [
       "np.int32(7)"
      ]
     },
     "execution_count": 49,
     "metadata": {},
     "output_type": "execute_result"
    }
   ],
   "source": [
    "arr[3,2,0]"
   ]
  },
  {
   "cell_type": "code",
   "execution_count": 50,
   "id": "4551499c-8059-4dc0-a2bd-f166ecdb79ba",
   "metadata": {},
   "outputs": [],
   "source": [
    "arr[3,2,0] = 18"
   ]
  },
  {
   "cell_type": "code",
   "execution_count": 51,
   "id": "12af158c-de75-48de-857e-c1cdc7973719",
   "metadata": {},
   "outputs": [
    {
     "data": {
      "text/plain": [
       "array([[24, 17, 18],\n",
       "       [ 3, 11, 10],\n",
       "       [18, 10,  6],\n",
       "       [14, 21, 19],\n",
       "       [13, 20,  6],\n",
       "       [11,  6, 19]], dtype=int32)"
      ]
     },
     "execution_count": 51,
     "metadata": {},
     "output_type": "execute_result"
    }
   ],
   "source": [
    "arr[3]"
   ]
  },
  {
   "cell_type": "code",
   "execution_count": 52,
   "id": "536adff6-c32b-478b-87ac-d4f39268d17f",
   "metadata": {},
   "outputs": [],
   "source": [
    "arr = np.random.randint(1,20,(3,5,4))"
   ]
  },
  {
   "cell_type": "code",
   "execution_count": 53,
   "id": "03a665c6-c456-4f51-b9a9-8ade7969d138",
   "metadata": {},
   "outputs": [
    {
     "data": {
      "text/plain": [
       "array([[[16,  1, 14,  1],\n",
       "        [11, 18,  1,  5],\n",
       "        [ 2,  5, 15,  5],\n",
       "        [10, 14, 19, 15],\n",
       "        [19, 16,  3, 14]],\n",
       "\n",
       "       [[18,  8,  6, 10],\n",
       "        [ 8,  9, 18, 16],\n",
       "        [12,  5, 13, 19],\n",
       "        [19, 11,  6,  1],\n",
       "        [14, 17,  2,  9]],\n",
       "\n",
       "       [[ 4,  4, 11,  1],\n",
       "        [19, 10, 16, 11],\n",
       "        [10,  7, 15,  2],\n",
       "        [ 7, 16,  1,  1],\n",
       "        [ 4,  2, 18, 16]]], dtype=int32)"
      ]
     },
     "execution_count": 53,
     "metadata": {},
     "output_type": "execute_result"
    }
   ],
   "source": [
    "arr"
   ]
  },
  {
   "cell_type": "code",
   "execution_count": 55,
   "id": "c1026c24-9f2b-427d-a164-81bb7078a706",
   "metadata": {},
   "outputs": [
    {
     "data": {
      "text/plain": [
       "array([[[18,  8,  6, 10],\n",
       "        [ 8,  9, 18, 16],\n",
       "        [12,  5, 13, 19],\n",
       "        [19, 11,  6,  1],\n",
       "        [14, 17,  2,  9]],\n",
       "\n",
       "       [[ 4,  4, 11,  1],\n",
       "        [19, 10, 16, 11],\n",
       "        [10,  7, 15,  2],\n",
       "        [ 7, 16,  1,  1],\n",
       "        [ 4,  2, 18, 16]]], dtype=int32)"
      ]
     },
     "execution_count": 55,
     "metadata": {},
     "output_type": "execute_result"
    }
   ],
   "source": [
    "arr[1:]"
   ]
  },
  {
   "cell_type": "code",
   "execution_count": 56,
   "id": "61063c40-72de-402b-80a0-f6b21230c04a",
   "metadata": {},
   "outputs": [],
   "source": [
    "arr[1:, 0:2] = 5"
   ]
  },
  {
   "cell_type": "code",
   "execution_count": 57,
   "id": "bbaffb59-e1c8-4c3f-85ad-8146f7086c5c",
   "metadata": {},
   "outputs": [
    {
     "data": {
      "text/plain": [
       "array([[[5, 5, 5, 5],\n",
       "        [5, 5, 5, 5]],\n",
       "\n",
       "       [[5, 5, 5, 5],\n",
       "        [5, 5, 5, 5]]], dtype=int32)"
      ]
     },
     "execution_count": 57,
     "metadata": {},
     "output_type": "execute_result"
    }
   ],
   "source": [
    "arr[1:, 0:2]"
   ]
  },
  {
   "cell_type": "code",
   "execution_count": 58,
   "id": "24f75ae7-3281-4013-af9f-df0f1a7bd0df",
   "metadata": {},
   "outputs": [
    {
     "data": {
      "text/plain": [
       "array([[[16,  1, 14,  1],\n",
       "        [11, 18,  1,  5],\n",
       "        [ 2,  5, 15,  5],\n",
       "        [10, 14, 19, 15],\n",
       "        [19, 16,  3, 14]],\n",
       "\n",
       "       [[ 5,  5,  5,  5],\n",
       "        [ 5,  5,  5,  5],\n",
       "        [12,  5, 13, 19],\n",
       "        [19, 11,  6,  1],\n",
       "        [14, 17,  2,  9]],\n",
       "\n",
       "       [[ 5,  5,  5,  5],\n",
       "        [ 5,  5,  5,  5],\n",
       "        [10,  7, 15,  2],\n",
       "        [ 7, 16,  1,  1],\n",
       "        [ 4,  2, 18, 16]]], dtype=int32)"
      ]
     },
     "execution_count": 58,
     "metadata": {},
     "output_type": "execute_result"
    }
   ],
   "source": [
    "arr"
   ]
  },
  {
   "cell_type": "code",
   "execution_count": 69,
   "id": "8120b122-6bb3-405c-90e3-30e9e3eea56e",
   "metadata": {},
   "outputs": [],
   "source": [
    "a = arr[-2:, -1:]"
   ]
  },
  {
   "cell_type": "code",
   "execution_count": 70,
   "id": "747134ec-bde0-401e-9f6a-cb0b4903027e",
   "metadata": {},
   "outputs": [
    {
     "data": {
      "text/plain": [
       "array([[[14, 17,  2,  9]],\n",
       "\n",
       "       [[ 4,  2, 18, 16]]], dtype=int32)"
      ]
     },
     "execution_count": 70,
     "metadata": {},
     "output_type": "execute_result"
    }
   ],
   "source": [
    "a"
   ]
  },
  {
   "cell_type": "code",
   "execution_count": 71,
   "id": "eeed3bb0-3d11-4aa0-b8cc-ef195c4c2584",
   "metadata": {},
   "outputs": [],
   "source": [
    "a[0,-1] = 100"
   ]
  },
  {
   "cell_type": "code",
   "execution_count": 72,
   "id": "334b67a2-6838-4dff-808a-ad1c8592d4b1",
   "metadata": {},
   "outputs": [
    {
     "data": {
      "text/plain": [
       "array([[[100, 100, 100, 100]],\n",
       "\n",
       "       [[  4,   2,  18,  16]]], dtype=int32)"
      ]
     },
     "execution_count": 72,
     "metadata": {},
     "output_type": "execute_result"
    }
   ],
   "source": [
    "a"
   ]
  },
  {
   "cell_type": "code",
   "execution_count": null,
   "id": "53506986-fea7-47d0-9e0a-7a2c0e3182e2",
   "metadata": {},
   "outputs": [],
   "source": []
  },
  {
   "cell_type": "code",
   "execution_count": 73,
   "id": "3ae97dce-f0aa-405b-8259-f57403649777",
   "metadata": {},
   "outputs": [],
   "source": [
    "arr = np.arange(9)\n",
    "arr = arr.reshape(3,3)"
   ]
  },
  {
   "cell_type": "code",
   "execution_count": 74,
   "id": "8d69af28-ae16-4d83-8eb3-bc1a7404b89b",
   "metadata": {},
   "outputs": [
    {
     "data": {
      "text/plain": [
       "array([[0, 1, 2],\n",
       "       [3, 4, 5],\n",
       "       [6, 7, 8]])"
      ]
     },
     "execution_count": 74,
     "metadata": {},
     "output_type": "execute_result"
    }
   ],
   "source": [
    "arr"
   ]
  },
  {
   "cell_type": "code",
   "execution_count": 75,
   "id": "24ffb5c8-91b5-4606-a819-668583e623c8",
   "metadata": {},
   "outputs": [],
   "source": [
    "a = arr"
   ]
  },
  {
   "cell_type": "code",
   "execution_count": 76,
   "id": "1ae624a5-3118-4a11-97bb-2ffa8cdd9e94",
   "metadata": {},
   "outputs": [],
   "source": [
    "b = arr.copy()"
   ]
  },
  {
   "cell_type": "code",
   "execution_count": 77,
   "id": "4b9d30c4-dc94-4ff0-8c61-73df8518a84f",
   "metadata": {},
   "outputs": [
    {
     "data": {
      "text/plain": [
       "np.int64(0)"
      ]
     },
     "execution_count": 77,
     "metadata": {},
     "output_type": "execute_result"
    }
   ],
   "source": [
    "a[0][0]"
   ]
  },
  {
   "cell_type": "code",
   "execution_count": 78,
   "id": "7385acaf-f4f0-44d3-aca3-e5531d382155",
   "metadata": {},
   "outputs": [],
   "source": [
    "a[0][0] = 50"
   ]
  },
  {
   "cell_type": "code",
   "execution_count": 79,
   "id": "80275c2f-4b48-4b21-a396-f62ce0c86f8f",
   "metadata": {},
   "outputs": [
    {
     "data": {
      "text/plain": [
       "array([[50,  1,  2],\n",
       "       [ 3,  4,  5],\n",
       "       [ 6,  7,  8]])"
      ]
     },
     "execution_count": 79,
     "metadata": {},
     "output_type": "execute_result"
    }
   ],
   "source": [
    "a"
   ]
  },
  {
   "cell_type": "code",
   "execution_count": 80,
   "id": "6cb13542-fd9a-4ace-b21a-394d2aea7f89",
   "metadata": {},
   "outputs": [
    {
     "data": {
      "text/plain": [
       "np.int64(0)"
      ]
     },
     "execution_count": 80,
     "metadata": {},
     "output_type": "execute_result"
    }
   ],
   "source": [
    "b[0,0] "
   ]
  },
  {
   "cell_type": "code",
   "execution_count": 81,
   "id": "23d83d37-fbb6-4d65-b13b-54f5dc6a2bd4",
   "metadata": {},
   "outputs": [],
   "source": [
    "b[0,0] = 100"
   ]
  },
  {
   "cell_type": "code",
   "execution_count": 82,
   "id": "f42b00b3-e881-4741-9ce4-229db791caaf",
   "metadata": {},
   "outputs": [
    {
     "data": {
      "text/plain": [
       "array([[100,   1,   2],\n",
       "       [  3,   4,   5],\n",
       "       [  6,   7,   8]])"
      ]
     },
     "execution_count": 82,
     "metadata": {},
     "output_type": "execute_result"
    }
   ],
   "source": [
    "b"
   ]
  },
  {
   "cell_type": "code",
   "execution_count": null,
   "id": "2765db66-cd70-4f7b-8985-b60a5d3718ce",
   "metadata": {},
   "outputs": [],
   "source": []
  }
 ],
 "metadata": {
  "kernelspec": {
   "display_name": "Python [conda env:base] *",
   "language": "python",
   "name": "conda-base-py"
  },
  "language_info": {
   "codemirror_mode": {
    "name": "ipython",
    "version": 3
   },
   "file_extension": ".py",
   "mimetype": "text/x-python",
   "name": "python",
   "nbconvert_exporter": "python",
   "pygments_lexer": "ipython3",
   "version": "3.13.5"
  }
 },
 "nbformat": 4,
 "nbformat_minor": 5
}
